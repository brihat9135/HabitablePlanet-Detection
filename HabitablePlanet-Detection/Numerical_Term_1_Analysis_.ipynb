{
 "cells": [
  {
   "cell_type": "code",
   "execution_count": 1,
   "metadata": {},
   "outputs": [],
   "source": [
    "import pandas as pd\n",
    "from collections import Counter"
   ]
  },
  {
   "cell_type": "code",
   "execution_count": 2,
   "metadata": {},
   "outputs": [],
   "source": [
    "df_master = pd.read_csv(\"PSCompPars_2024.01.15_14.20.59.csv\", skiprows=88)\n",
    "df_habitable = pd.read_csv(\"hwc.csv\")"
   ]
  },
  {
   "cell_type": "code",
   "execution_count": 5,
   "metadata": {},
   "outputs": [
    {
     "name": "stdout",
     "output_type": "stream",
     "text": [
      "['pl_name', 'hostname', 'sy_snum', 'sy_pnum', 'discoverymethod', 'disc_year', 'disc_facility', 'pl_controv_flag', 'pl_orbper', 'pl_orbpererr1', 'pl_orbpererr2', 'pl_orbperlim', 'pl_orbsmax', 'pl_orbsmaxerr1', 'pl_orbsmaxerr2', 'pl_orbsmaxlim', 'pl_rade', 'pl_radeerr1', 'pl_radeerr2', 'pl_radelim', 'pl_radj', 'pl_radjerr1', 'pl_radjerr2', 'pl_radjlim', 'pl_bmasse', 'pl_bmasseerr1', 'pl_bmasseerr2', 'pl_bmasselim', 'pl_bmassj', 'pl_bmassjerr1', 'pl_bmassjerr2', 'pl_bmassjlim', 'pl_bmassprov', 'pl_orbeccen', 'pl_orbeccenerr1', 'pl_orbeccenerr2', 'pl_orbeccenlim', 'pl_insol', 'pl_insolerr1', 'pl_insolerr2', 'pl_insollim', 'pl_eqt', 'pl_eqterr1', 'pl_eqterr2', 'pl_eqtlim', 'ttv_flag', 'st_spectype', 'st_teff', 'st_tefferr1', 'st_tefferr2', 'st_tefflim', 'st_rad', 'st_raderr1', 'st_raderr2', 'st_radlim', 'st_mass', 'st_masserr1', 'st_masserr2', 'st_masslim', 'st_met', 'st_meterr1', 'st_meterr2', 'st_metlim', 'st_metratio', 'st_logg', 'st_loggerr1', 'st_loggerr2', 'st_logglim', 'rastr', 'ra', 'decstr', 'dec', 'sy_dist', 'sy_disterr1', 'sy_disterr2', 'sy_vmag', 'sy_vmagerr1', 'sy_vmagerr2', 'sy_kmag', 'sy_kmagerr1', 'sy_kmagerr2', 'sy_gaiamag', 'sy_gaiamagerr1', 'sy_gaiamagerr2']\n"
     ]
    }
   ],
   "source": [
    "print(df_master.columns.tolist())"
   ]
  },
  {
   "cell_type": "code",
   "execution_count": 6,
   "metadata": {},
   "outputs": [
    {
     "data": {
      "text/html": [
       "<div>\n",
       "<style scoped>\n",
       "    .dataframe tbody tr th:only-of-type {\n",
       "        vertical-align: middle;\n",
       "    }\n",
       "\n",
       "    .dataframe tbody tr th {\n",
       "        vertical-align: top;\n",
       "    }\n",
       "\n",
       "    .dataframe thead th {\n",
       "        text-align: right;\n",
       "    }\n",
       "</style>\n",
       "<table border=\"1\" class=\"dataframe\">\n",
       "  <thead>\n",
       "    <tr style=\"text-align: right;\">\n",
       "      <th></th>\n",
       "      <th>pl_name</th>\n",
       "      <th>hostname</th>\n",
       "      <th>sy_snum</th>\n",
       "      <th>sy_pnum</th>\n",
       "      <th>discoverymethod</th>\n",
       "      <th>disc_year</th>\n",
       "      <th>disc_facility</th>\n",
       "      <th>pl_controv_flag</th>\n",
       "      <th>pl_orbper</th>\n",
       "      <th>pl_orbpererr1</th>\n",
       "      <th>...</th>\n",
       "      <th>sy_disterr2</th>\n",
       "      <th>sy_vmag</th>\n",
       "      <th>sy_vmagerr1</th>\n",
       "      <th>sy_vmagerr2</th>\n",
       "      <th>sy_kmag</th>\n",
       "      <th>sy_kmagerr1</th>\n",
       "      <th>sy_kmagerr2</th>\n",
       "      <th>sy_gaiamag</th>\n",
       "      <th>sy_gaiamagerr1</th>\n",
       "      <th>sy_gaiamagerr2</th>\n",
       "    </tr>\n",
       "  </thead>\n",
       "  <tbody>\n",
       "    <tr>\n",
       "      <td>0</td>\n",
       "      <td>11 Com b</td>\n",
       "      <td>11 Com</td>\n",
       "      <td>2</td>\n",
       "      <td>1</td>\n",
       "      <td>Radial Velocity</td>\n",
       "      <td>2007</td>\n",
       "      <td>Xinglong Station</td>\n",
       "      <td>0</td>\n",
       "      <td>323.21000</td>\n",
       "      <td>0.06000</td>\n",
       "      <td>...</td>\n",
       "      <td>-1.92380</td>\n",
       "      <td>4.72307</td>\n",
       "      <td>0.023</td>\n",
       "      <td>-0.023</td>\n",
       "      <td>2.282</td>\n",
       "      <td>0.346</td>\n",
       "      <td>-0.346</td>\n",
       "      <td>4.44038</td>\n",
       "      <td>0.003848</td>\n",
       "      <td>-0.003848</td>\n",
       "    </tr>\n",
       "    <tr>\n",
       "      <td>1</td>\n",
       "      <td>11 UMi b</td>\n",
       "      <td>11 UMi</td>\n",
       "      <td>1</td>\n",
       "      <td>1</td>\n",
       "      <td>Radial Velocity</td>\n",
       "      <td>2009</td>\n",
       "      <td>Thueringer Landessternwarte Tautenburg</td>\n",
       "      <td>0</td>\n",
       "      <td>516.21997</td>\n",
       "      <td>3.20000</td>\n",
       "      <td>...</td>\n",
       "      <td>-1.97650</td>\n",
       "      <td>5.01300</td>\n",
       "      <td>0.005</td>\n",
       "      <td>-0.005</td>\n",
       "      <td>1.939</td>\n",
       "      <td>0.270</td>\n",
       "      <td>-0.270</td>\n",
       "      <td>4.56216</td>\n",
       "      <td>0.003903</td>\n",
       "      <td>-0.003903</td>\n",
       "    </tr>\n",
       "    <tr>\n",
       "      <td>2</td>\n",
       "      <td>14 And b</td>\n",
       "      <td>14 And</td>\n",
       "      <td>1</td>\n",
       "      <td>1</td>\n",
       "      <td>Radial Velocity</td>\n",
       "      <td>2008</td>\n",
       "      <td>Okayama Astrophysical Observatory</td>\n",
       "      <td>0</td>\n",
       "      <td>186.76000</td>\n",
       "      <td>0.11000</td>\n",
       "      <td>...</td>\n",
       "      <td>-0.71400</td>\n",
       "      <td>5.23133</td>\n",
       "      <td>0.023</td>\n",
       "      <td>-0.023</td>\n",
       "      <td>2.331</td>\n",
       "      <td>0.240</td>\n",
       "      <td>-0.240</td>\n",
       "      <td>4.91781</td>\n",
       "      <td>0.002826</td>\n",
       "      <td>-0.002826</td>\n",
       "    </tr>\n",
       "    <tr>\n",
       "      <td>3</td>\n",
       "      <td>14 Her b</td>\n",
       "      <td>14 Her</td>\n",
       "      <td>1</td>\n",
       "      <td>2</td>\n",
       "      <td>Radial Velocity</td>\n",
       "      <td>2002</td>\n",
       "      <td>W. M. Keck Observatory</td>\n",
       "      <td>0</td>\n",
       "      <td>1765.03890</td>\n",
       "      <td>1.67709</td>\n",
       "      <td>...</td>\n",
       "      <td>-0.00730</td>\n",
       "      <td>6.61935</td>\n",
       "      <td>0.023</td>\n",
       "      <td>-0.023</td>\n",
       "      <td>4.714</td>\n",
       "      <td>0.016</td>\n",
       "      <td>-0.016</td>\n",
       "      <td>6.38300</td>\n",
       "      <td>0.000351</td>\n",
       "      <td>-0.000351</td>\n",
       "    </tr>\n",
       "    <tr>\n",
       "      <td>4</td>\n",
       "      <td>16 Cyg B b</td>\n",
       "      <td>16 Cyg B</td>\n",
       "      <td>3</td>\n",
       "      <td>1</td>\n",
       "      <td>Radial Velocity</td>\n",
       "      <td>1996</td>\n",
       "      <td>Multiple Observatories</td>\n",
       "      <td>0</td>\n",
       "      <td>798.50000</td>\n",
       "      <td>1.00000</td>\n",
       "      <td>...</td>\n",
       "      <td>-0.01110</td>\n",
       "      <td>6.21500</td>\n",
       "      <td>0.016</td>\n",
       "      <td>-0.016</td>\n",
       "      <td>4.651</td>\n",
       "      <td>0.016</td>\n",
       "      <td>-0.016</td>\n",
       "      <td>6.06428</td>\n",
       "      <td>0.000603</td>\n",
       "      <td>-0.000603</td>\n",
       "    </tr>\n",
       "    <tr>\n",
       "      <td>5</td>\n",
       "      <td>17 Sco b</td>\n",
       "      <td>17 Sco</td>\n",
       "      <td>1</td>\n",
       "      <td>1</td>\n",
       "      <td>Radial Velocity</td>\n",
       "      <td>2020</td>\n",
       "      <td>Lick Observatory</td>\n",
       "      <td>0</td>\n",
       "      <td>578.38000</td>\n",
       "      <td>2.01000</td>\n",
       "      <td>...</td>\n",
       "      <td>-2.59000</td>\n",
       "      <td>5.22606</td>\n",
       "      <td>0.023</td>\n",
       "      <td>-0.023</td>\n",
       "      <td>2.094</td>\n",
       "      <td>0.244</td>\n",
       "      <td>-0.244</td>\n",
       "      <td>4.75429</td>\n",
       "      <td>0.005055</td>\n",
       "      <td>-0.005055</td>\n",
       "    </tr>\n",
       "    <tr>\n",
       "      <td>6</td>\n",
       "      <td>18 Del b</td>\n",
       "      <td>18 Del</td>\n",
       "      <td>2</td>\n",
       "      <td>1</td>\n",
       "      <td>Radial Velocity</td>\n",
       "      <td>2008</td>\n",
       "      <td>Okayama Astrophysical Observatory</td>\n",
       "      <td>0</td>\n",
       "      <td>982.85000</td>\n",
       "      <td>1.06000</td>\n",
       "      <td>...</td>\n",
       "      <td>-0.62170</td>\n",
       "      <td>5.51048</td>\n",
       "      <td>0.023</td>\n",
       "      <td>-0.023</td>\n",
       "      <td>3.366</td>\n",
       "      <td>0.204</td>\n",
       "      <td>-0.204</td>\n",
       "      <td>5.27476</td>\n",
       "      <td>0.002654</td>\n",
       "      <td>-0.002654</td>\n",
       "    </tr>\n",
       "    <tr>\n",
       "      <td>7</td>\n",
       "      <td>1RXS J160929.1-210524 b</td>\n",
       "      <td>1RXS J160929.1-210524</td>\n",
       "      <td>1</td>\n",
       "      <td>1</td>\n",
       "      <td>Imaging</td>\n",
       "      <td>2008</td>\n",
       "      <td>Gemini Observatory</td>\n",
       "      <td>0</td>\n",
       "      <td>NaN</td>\n",
       "      <td>NaN</td>\n",
       "      <td>...</td>\n",
       "      <td>-1.30700</td>\n",
       "      <td>12.61800</td>\n",
       "      <td>0.069</td>\n",
       "      <td>-0.069</td>\n",
       "      <td>8.916</td>\n",
       "      <td>0.021</td>\n",
       "      <td>-0.021</td>\n",
       "      <td>12.05720</td>\n",
       "      <td>0.002275</td>\n",
       "      <td>-0.002275</td>\n",
       "    </tr>\n",
       "    <tr>\n",
       "      <td>8</td>\n",
       "      <td>24 Boo b</td>\n",
       "      <td>24 Boo</td>\n",
       "      <td>1</td>\n",
       "      <td>1</td>\n",
       "      <td>Radial Velocity</td>\n",
       "      <td>2018</td>\n",
       "      <td>Okayama Astrophysical Observatory</td>\n",
       "      <td>0</td>\n",
       "      <td>30.33000</td>\n",
       "      <td>0.00000</td>\n",
       "      <td>...</td>\n",
       "      <td>-0.63685</td>\n",
       "      <td>5.59000</td>\n",
       "      <td>0.001</td>\n",
       "      <td>-0.001</td>\n",
       "      <td>3.159</td>\n",
       "      <td>0.280</td>\n",
       "      <td>-0.280</td>\n",
       "      <td>5.33390</td>\n",
       "      <td>0.002000</td>\n",
       "      <td>-0.002000</td>\n",
       "    </tr>\n",
       "    <tr>\n",
       "      <td>9</td>\n",
       "      <td>24 Sex b</td>\n",
       "      <td>24 Sex</td>\n",
       "      <td>1</td>\n",
       "      <td>2</td>\n",
       "      <td>Radial Velocity</td>\n",
       "      <td>2010</td>\n",
       "      <td>Lick Observatory</td>\n",
       "      <td>0</td>\n",
       "      <td>452.80000</td>\n",
       "      <td>2.10000</td>\n",
       "      <td>...</td>\n",
       "      <td>-0.67280</td>\n",
       "      <td>6.45350</td>\n",
       "      <td>0.023</td>\n",
       "      <td>-0.023</td>\n",
       "      <td>4.285</td>\n",
       "      <td>0.016</td>\n",
       "      <td>-0.016</td>\n",
       "      <td>6.20374</td>\n",
       "      <td>0.000498</td>\n",
       "      <td>-0.000498</td>\n",
       "    </tr>\n",
       "  </tbody>\n",
       "</table>\n",
       "<p>10 rows × 84 columns</p>\n",
       "</div>"
      ],
      "text/plain": [
       "                   pl_name               hostname  sy_snum  sy_pnum  \\\n",
       "0                 11 Com b                 11 Com        2        1   \n",
       "1                 11 UMi b                 11 UMi        1        1   \n",
       "2                 14 And b                 14 And        1        1   \n",
       "3                 14 Her b                 14 Her        1        2   \n",
       "4               16 Cyg B b               16 Cyg B        3        1   \n",
       "5                 17 Sco b                 17 Sco        1        1   \n",
       "6                 18 Del b                 18 Del        2        1   \n",
       "7  1RXS J160929.1-210524 b  1RXS J160929.1-210524        1        1   \n",
       "8                 24 Boo b                 24 Boo        1        1   \n",
       "9                 24 Sex b                 24 Sex        1        2   \n",
       "\n",
       "   discoverymethod  disc_year                           disc_facility  \\\n",
       "0  Radial Velocity       2007                        Xinglong Station   \n",
       "1  Radial Velocity       2009  Thueringer Landessternwarte Tautenburg   \n",
       "2  Radial Velocity       2008       Okayama Astrophysical Observatory   \n",
       "3  Radial Velocity       2002                  W. M. Keck Observatory   \n",
       "4  Radial Velocity       1996                  Multiple Observatories   \n",
       "5  Radial Velocity       2020                        Lick Observatory   \n",
       "6  Radial Velocity       2008       Okayama Astrophysical Observatory   \n",
       "7          Imaging       2008                      Gemini Observatory   \n",
       "8  Radial Velocity       2018       Okayama Astrophysical Observatory   \n",
       "9  Radial Velocity       2010                        Lick Observatory   \n",
       "\n",
       "   pl_controv_flag   pl_orbper  pl_orbpererr1  ...  sy_disterr2   sy_vmag  \\\n",
       "0                0   323.21000        0.06000  ...     -1.92380   4.72307   \n",
       "1                0   516.21997        3.20000  ...     -1.97650   5.01300   \n",
       "2                0   186.76000        0.11000  ...     -0.71400   5.23133   \n",
       "3                0  1765.03890        1.67709  ...     -0.00730   6.61935   \n",
       "4                0   798.50000        1.00000  ...     -0.01110   6.21500   \n",
       "5                0   578.38000        2.01000  ...     -2.59000   5.22606   \n",
       "6                0   982.85000        1.06000  ...     -0.62170   5.51048   \n",
       "7                0         NaN            NaN  ...     -1.30700  12.61800   \n",
       "8                0    30.33000        0.00000  ...     -0.63685   5.59000   \n",
       "9                0   452.80000        2.10000  ...     -0.67280   6.45350   \n",
       "\n",
       "   sy_vmagerr1  sy_vmagerr2  sy_kmag  sy_kmagerr1  sy_kmagerr2  sy_gaiamag  \\\n",
       "0        0.023       -0.023    2.282        0.346       -0.346     4.44038   \n",
       "1        0.005       -0.005    1.939        0.270       -0.270     4.56216   \n",
       "2        0.023       -0.023    2.331        0.240       -0.240     4.91781   \n",
       "3        0.023       -0.023    4.714        0.016       -0.016     6.38300   \n",
       "4        0.016       -0.016    4.651        0.016       -0.016     6.06428   \n",
       "5        0.023       -0.023    2.094        0.244       -0.244     4.75429   \n",
       "6        0.023       -0.023    3.366        0.204       -0.204     5.27476   \n",
       "7        0.069       -0.069    8.916        0.021       -0.021    12.05720   \n",
       "8        0.001       -0.001    3.159        0.280       -0.280     5.33390   \n",
       "9        0.023       -0.023    4.285        0.016       -0.016     6.20374   \n",
       "\n",
       "   sy_gaiamagerr1  sy_gaiamagerr2  \n",
       "0        0.003848       -0.003848  \n",
       "1        0.003903       -0.003903  \n",
       "2        0.002826       -0.002826  \n",
       "3        0.000351       -0.000351  \n",
       "4        0.000603       -0.000603  \n",
       "5        0.005055       -0.005055  \n",
       "6        0.002654       -0.002654  \n",
       "7        0.002275       -0.002275  \n",
       "8        0.002000       -0.002000  \n",
       "9        0.000498       -0.000498  \n",
       "\n",
       "[10 rows x 84 columns]"
      ]
     },
     "metadata": {},
     "output_type": "display_data"
    }
   ],
   "source": [
    "display(df_master.head(10))"
   ]
  },
  {
   "cell_type": "code",
   "execution_count": 7,
   "metadata": {},
   "outputs": [
    {
     "data": {
      "text/plain": [
       "count    5.323000e+03\n",
       "mean     8.035347e+04\n",
       "std      5.512524e+06\n",
       "min      9.070629e-02\n",
       "25%      4.467694e+00\n",
       "50%      1.157890e+01\n",
       "75%      4.160075e+01\n",
       "max      4.020000e+08\n",
       "Name: pl_orbper, dtype: float64"
      ]
     },
     "execution_count": 7,
     "metadata": {},
     "output_type": "execute_result"
    }
   ],
   "source": [
    "df_master[\"pl_orbper\"].describe()"
   ]
  },
  {
   "cell_type": "code",
   "execution_count": 8,
   "metadata": {},
   "outputs": [
    {
     "name": "stdout",
     "output_type": "stream",
     "text": [
      "Counter({'Transit': 4151, 'Radial Velocity': 1075, 'Microlensing': 207, 'Imaging': 69, 'Transit Timing Variations': 28, 'Eclipse Timing Variations': 17, 'Orbital Brightness Modulation': 9, 'Pulsar Timing': 7, 'Astrometry': 3, 'Pulsation Timing Variations': 2, 'Disk Kinematics': 1})\n"
     ]
    }
   ],
   "source": [
    "from collections import Counter\n",
    "print(Counter(df_master[\"discoverymethod\"].tolist()))"
   ]
  },
  {
   "cell_type": "code",
   "execution_count": 9,
   "metadata": {},
   "outputs": [
    {
     "name": "stdout",
     "output_type": "stream",
     "text": [
      "Common number of stars:\n",
      "Counter({1: 5061, 2: 441, 3: 65, 4: 2})\n"
     ]
    }
   ],
   "source": [
    "print(\"Common number of stars:\")\n",
    "print(Counter(df_master[\"sy_snum\"].tolist()))"
   ]
  },
  {
   "cell_type": "code",
   "execution_count": 11,
   "metadata": {},
   "outputs": [
    {
     "name": "stdout",
     "output_type": "stream",
     "text": [
      "Plant radius compare to Jupiter:\n",
      "count    5549.000000\n",
      "mean        0.508074\n",
      "std         0.473964\n",
      "min         0.028000\n",
      "25%         0.159000\n",
      "50%         0.248000\n",
      "75%         1.058000\n",
      "max         6.900000\n",
      "Name: pl_radj, dtype: float64\n"
     ]
    }
   ],
   "source": [
    "print(\"Plant radius compare to Jupiter:\")\n",
    "print(df_master[\"pl_radj\"].describe())"
   ]
  },
  {
   "cell_type": "code",
   "execution_count": 12,
   "metadata": {},
   "outputs": [
    {
     "name": "stdout",
     "output_type": "stream",
     "text": [
      "['P_NAME', 'P_DETECTION', 'P_DISCOVERY_FACILITY', 'P_YEAR', 'P_MASS', 'P_MASS_ERROR_MIN', 'P_MASS_ERROR_MAX', 'P_MASS_LIMIT', 'P_MASS_ORIGIN', 'P_RADIUS', 'P_RADIUS_ERROR_MIN', 'P_RADIUS_ERROR_MAX', 'P_RADIUS_LIMIT', 'P_PERIOD', 'P_PERIOD_ERROR_MIN', 'P_PERIOD_ERROR_MAX', 'P_PERIOD_LIMIT', 'P_SEMI_MAJOR_AXIS', 'P_SEMI_MAJOR_AXIS_ERROR_MIN', 'P_SEMI_MAJOR_AXIS_ERROR_MAX', 'P_SEMI_MAJOR_AXIS_LIMIT', 'P_ECCENTRICITY', 'P_ECCENTRICITY_ERROR_MIN', 'P_ECCENTRICITY_ERROR_MAX', 'P_ECCENTRICITY_LIMIT', 'P_INCLINATION', 'P_INCLINATION_ERROR_MIN', 'P_INCLINATION_ERROR_MAX', 'P_INCLINATION_LIMIT', 'P_OMEGA', 'P_OMEGA_ERROR_MIN', 'P_OMEGA_ERROR_MAX', 'P_OMEGA_LIMIT', 'S_NAME', 'S_TYPE', 'S_RA', 'S_DEC', 'S_RA_STR', 'S_DEC_STR', 'S_MAG', 'S_MAG_ERROR_MIN', 'S_MAG_ERROR_MAX', 'S_DISTANCE', 'S_DISTANCE_ERROR_MIN', 'S_DISTANCE_ERROR_MAX', 'S_TEMPERATURE', 'S_TEMPERATURE_ERROR_MIN', 'S_TEMPERATURE_ERROR_MAX', 'S_TEMPERATURE_LIMIT', 'S_MASS', 'S_MASS_ERROR_MIN', 'S_MASS_ERROR_MAX', 'S_MASS_LIMIT', 'S_RADIUS', 'S_RADIUS_ERROR_MIN', 'S_RADIUS_ERROR_MAX', 'S_RADIUS_LIMIT', 'S_METALLICITY', 'S_METALLICITY_ERROR_MIN', 'S_METALLICITY_ERROR_MAX', 'S_METALLICITY_LIMIT', 'S_AGE', 'S_AGE_ERROR_MIN', 'S_AGE_ERROR_MAX', 'S_AGE_LIMIT', 'S_LOG_LUM', 'S_LOG_LUM_ERROR_MIN', 'S_LOG_LUM_ERROR_MAX', 'S_LOG_LUM_LIMIT', 'S_LOG_G', 'S_LOG_G_ERROR_MIN', 'S_LOG_G_ERROR_MAX', 'S_LOG_G_LIMIT', 'P_ESCAPE', 'P_POTENTIAL', 'P_GRAVITY', 'P_DENSITY', 'P_HILL_SPHERE', 'P_DISTANCE', 'P_PERIASTRON', 'P_APASTRON', 'P_DISTANCE_EFF', 'P_FLUX', 'P_FLUX_MIN', 'P_FLUX_MAX', 'P_TEMP_EQUIL', 'P_TEMP_EQUIL_MIN', 'P_TEMP_EQUIL_MAX', 'P_TEMP_SURF', 'P_TEMP_SURF_MIN', 'P_TEMP_SURF_MAX', 'P_TYPE', 'S_TYPE_TEMP', 'S_RA_TXT', 'S_DEC_TXT', 'S_LUMINOSITY', 'S_HZ_OPT_MIN', 'S_HZ_OPT_MAX', 'S_HZ_CON_MIN', 'S_HZ_CON_MAX', 'S_HZ_CON0_MIN', 'S_HZ_CON0_MAX', 'S_HZ_CON1_MIN', 'S_HZ_CON1_MAX', 'S_SNOW_LINE', 'S_ABIO_ZONE', 'S_TIDAL_LOCK', 'P_HABZONE_OPT', 'P_HABZONE_CON', 'P_TYPE_TEMP', 'P_HABITABLE', 'P_ESI', 'S_CONSTELLATION', 'S_CONSTELLATION_ABR', 'S_CONSTELLATION_ENG']\n"
     ]
    }
   ],
   "source": [
    "print(df_habitable.columns.tolist())"
   ]
  },
  {
   "cell_type": "code",
   "execution_count": 13,
   "metadata": {},
   "outputs": [
    {
     "name": "stdout",
     "output_type": "stream",
     "text": [
      "(5569, 115)\n"
     ]
    }
   ],
   "source": [
    "print(df_habitable.shape)"
   ]
  },
  {
   "cell_type": "code",
   "execution_count": null,
   "metadata": {},
   "outputs": [],
   "source": []
  },
  {
   "cell_type": "code",
   "execution_count": 14,
   "metadata": {},
   "outputs": [
    {
     "name": "stdout",
     "output_type": "stream",
     "text": [
      "count    5569.000000\n",
      "mean        5.709658\n",
      "std         5.340849\n",
      "min         0.000000\n",
      "25%         1.780000\n",
      "50%         2.780000\n",
      "75%        11.893000\n",
      "max        77.342000\n",
      "Name: P_RADIUS, dtype: float64\n"
     ]
    }
   ],
   "source": [
    "print(df_habitable[\"P_RADIUS\"].describe())"
   ]
  },
  {
   "cell_type": "code",
   "execution_count": 15,
   "metadata": {},
   "outputs": [
    {
     "name": "stdout",
     "output_type": "stream",
     "text": [
      "count    5.323000e+03\n",
      "mean     8.035347e+04\n",
      "std      5.512524e+06\n",
      "min      9.070629e-02\n",
      "25%      4.467694e+00\n",
      "50%      1.157890e+01\n",
      "75%      4.160075e+01\n",
      "max      4.020000e+08\n",
      "Name: P_PERIOD, dtype: float64\n"
     ]
    }
   ],
   "source": [
    "print(df_habitable[\"P_PERIOD\"].describe())"
   ]
  },
  {
   "cell_type": "code",
   "execution_count": 42,
   "metadata": {},
   "outputs": [
    {
     "name": "stderr",
     "output_type": "stream",
     "text": [
      "/Users/brihat/opt/anaconda3/lib/python3.7/site-packages/ipykernel_launcher.py:7: SettingWithCopyWarning: \n",
      "A value is trying to be set on a copy of a slice from a DataFrame.\n",
      "Try using .loc[row_indexer,col_indexer] = value instead\n",
      "\n",
      "See the caveats in the documentation: http://pandas.pydata.org/pandas-docs/stable/user_guide/indexing.html#returning-a-view-versus-a-copy\n",
      "  import sys\n"
     ]
    }
   ],
   "source": [
    "df_habitable_[\"P_PERIOD\"] = df_habitable[\"P_PERIOD\"].fillna(\"$\")\n",
    "df_habitable_ = df_habitable_[df_habitable_[\"P_PERIOD\"] != \"$\"]\n",
    "period_list = df_habitable_[\"P_PERIOD\"].tolist()\n",
    "radius_list = df_habitable_[\"P_RADIUS\"].tolist()\n",
    "max_value = max(period_list)\n",
    "df_hab = df_habitable_[df_habitable_[\"P_PERIOD\"] != max_value]\n",
    "df_hab[\"log_peroid\"] = np.log(df_hab[\"P_PERIOD\"].tolist())"
   ]
  },
  {
   "cell_type": "code",
   "execution_count": 50,
   "metadata": {},
   "outputs": [
    {
     "name": "stdout",
     "output_type": "stream",
     "text": [
      "5322\n",
      "5322\n"
     ]
    },
    {
     "data": {
      "text/plain": [
       "<matplotlib.collections.PathCollection at 0x7f9458ebbcd0>"
      ]
     },
     "execution_count": 50,
     "metadata": {},
     "output_type": "execute_result"
    },
    {
     "data": {
      "image/png": "[encoded data removed]",
      "text/plain": [
       "<Figure size 432x288 with 1 Axes>"
      ]
     },
     "metadata": {
      "needs_background": "light"
     },
     "output_type": "display_data"
    }
   ],
   "source": [
    "import numpy as np\n",
    "import matplotlib.pyplot as plt\n",
    "print(len(df_hab[\"log_peroid\"].tolist()))\n",
    "print(len(df_hab[\"P_RADIUS\"].tolist()))\n",
    "df_hab = df_hab.sort_values(by=['P_RADIUS'], ascending=True)\n",
    "plt.scatter(\"P_RADIUS\",\"log_peroid\",data=df_hab)\n"
   ]
  },
  {
   "cell_type": "code",
   "execution_count": 54,
   "metadata": {},
   "outputs": [
    {
     "name": "stdout",
     "output_type": "stream",
     "text": [
      "Counter({0: 5500, 2: 40, 1: 29})\n"
     ]
    }
   ],
   "source": [
    "print(Counter(df_habitable[\"P_HABITABLE\"].tolist()))"
   ]
  },
  {
   "cell_type": "code",
   "execution_count": 3,
   "metadata": {},
   "outputs": [],
   "source": [
    "df_habitable_only = df_habitable[df_habitable[\"P_HABITABLE\"].isin([1, 2])]"
   ]
  },
  {
   "cell_type": "code",
   "execution_count": 4,
   "metadata": {},
   "outputs": [
    {
     "name": "stdout",
     "output_type": "stream",
     "text": [
      "(69, 115)\n"
     ]
    }
   ],
   "source": [
    "print(df_habitable_only.shape)"
   ]
  },
  {
   "cell_type": "code",
   "execution_count": 60,
   "metadata": {},
   "outputs": [
    {
     "name": "stdout",
     "output_type": "stream",
     "text": [
      "count     69.000000\n",
      "mean      73.775838\n",
      "std       81.194730\n",
      "min        4.049219\n",
      "25%       18.449800\n",
      "50%       36.116000\n",
      "75%      112.305300\n",
      "max      384.843000\n",
      "Name: P_PERIOD, dtype: float64\n"
     ]
    }
   ],
   "source": [
    "print(df_habitable_only[\"P_PERIOD\"].describe())"
   ]
  },
  {
   "cell_type": "code",
   "execution_count": 71,
   "metadata": {},
   "outputs": [
    {
     "name": "stdout",
     "output_type": "stream",
     "text": [
      "{'P_NAME': dtype('O'), 'P_DETECTION': dtype('O'), 'P_DISCOVERY_FACILITY': dtype('O'), 'P_YEAR': dtype('int64'), 'P_MASS': dtype('float64'), 'P_MASS_ERROR_MIN': dtype('float64'), 'P_MASS_ERROR_MAX': dtype('float64'), 'P_MASS_LIMIT': dtype('int64'), 'P_MASS_ORIGIN': dtype('O'), 'P_RADIUS': dtype('float64'), 'P_RADIUS_ERROR_MIN': dtype('float64'), 'P_RADIUS_ERROR_MAX': dtype('float64'), 'P_RADIUS_LIMIT': dtype('int64'), 'P_PERIOD': dtype('float64'), 'P_PERIOD_ERROR_MIN': dtype('float64'), 'P_PERIOD_ERROR_MAX': dtype('float64'), 'P_PERIOD_LIMIT': dtype('int64'), 'P_SEMI_MAJOR_AXIS': dtype('float64'), 'P_SEMI_MAJOR_AXIS_ERROR_MIN': dtype('float64'), 'P_SEMI_MAJOR_AXIS_ERROR_MAX': dtype('float64'), 'P_SEMI_MAJOR_AXIS_LIMIT': dtype('int64'), 'P_ECCENTRICITY': dtype('float64'), 'P_ECCENTRICITY_ERROR_MIN': dtype('float64'), 'P_ECCENTRICITY_ERROR_MAX': dtype('float64'), 'P_ECCENTRICITY_LIMIT': dtype('int64'), 'P_INCLINATION': dtype('float64'), 'P_INCLINATION_ERROR_MIN': dtype('float64'), 'P_INCLINATION_ERROR_MAX': dtype('float64'), 'P_INCLINATION_LIMIT': dtype('int64'), 'P_OMEGA': dtype('float64'), 'P_OMEGA_ERROR_MIN': dtype('float64'), 'P_OMEGA_ERROR_MAX': dtype('float64'), 'P_OMEGA_LIMIT': dtype('int64'), 'S_NAME': dtype('O'), 'S_TYPE': dtype('O'), 'S_RA': dtype('float64'), 'S_DEC': dtype('float64'), 'S_RA_STR': dtype('O'), 'S_DEC_STR': dtype('O'), 'S_MAG': dtype('float64'), 'S_MAG_ERROR_MIN': dtype('float64'), 'S_MAG_ERROR_MAX': dtype('float64'), 'S_DISTANCE': dtype('float64'), 'S_DISTANCE_ERROR_MIN': dtype('float64'), 'S_DISTANCE_ERROR_MAX': dtype('float64'), 'S_TEMPERATURE': dtype('float64'), 'S_TEMPERATURE_ERROR_MIN': dtype('float64'), 'S_TEMPERATURE_ERROR_MAX': dtype('float64'), 'S_TEMPERATURE_LIMIT': dtype('int64'), 'S_MASS': dtype('float64'), 'S_MASS_ERROR_MIN': dtype('float64'), 'S_MASS_ERROR_MAX': dtype('float64'), 'S_MASS_LIMIT': dtype('int64'), 'S_RADIUS': dtype('float64'), 'S_RADIUS_ERROR_MIN': dtype('float64'), 'S_RADIUS_ERROR_MAX': dtype('float64'), 'S_RADIUS_LIMIT': dtype('int64'), 'S_METALLICITY': dtype('float64'), 'S_METALLICITY_ERROR_MIN': dtype('float64'), 'S_METALLICITY_ERROR_MAX': dtype('float64'), 'S_METALLICITY_LIMIT': dtype('int64'), 'S_AGE': dtype('float64'), 'S_AGE_ERROR_MIN': dtype('float64'), 'S_AGE_ERROR_MAX': dtype('float64'), 'S_AGE_LIMIT': dtype('int64'), 'S_LOG_LUM': dtype('float64'), 'S_LOG_LUM_ERROR_MIN': dtype('float64'), 'S_LOG_LUM_ERROR_MAX': dtype('float64'), 'S_LOG_LUM_LIMIT': dtype('int64'), 'S_LOG_G': dtype('float64'), 'S_LOG_G_ERROR_MIN': dtype('float64'), 'S_LOG_G_ERROR_MAX': dtype('float64'), 'S_LOG_G_LIMIT': dtype('int64'), 'P_ESCAPE': dtype('float64'), 'P_POTENTIAL': dtype('float64'), 'P_GRAVITY': dtype('float64'), 'P_DENSITY': dtype('float64'), 'P_HILL_SPHERE': dtype('float64'), 'P_DISTANCE': dtype('float64'), 'P_PERIASTRON': dtype('float64'), 'P_APASTRON': dtype('float64'), 'P_DISTANCE_EFF': dtype('float64'), 'P_FLUX': dtype('float64'), 'P_FLUX_MIN': dtype('float64'), 'P_FLUX_MAX': dtype('float64'), 'P_TEMP_EQUIL': dtype('float64'), 'P_TEMP_EQUIL_MIN': dtype('float64'), 'P_TEMP_EQUIL_MAX': dtype('float64'), 'P_TEMP_SURF': dtype('float64'), 'P_TEMP_SURF_MIN': dtype('float64'), 'P_TEMP_SURF_MAX': dtype('float64'), 'P_TYPE': dtype('O'), 'S_TYPE_TEMP': dtype('O'), 'S_RA_TXT': dtype('O'), 'S_DEC_TXT': dtype('O'), 'S_LUMINOSITY': dtype('float64'), 'S_HZ_OPT_MIN': dtype('float64'), 'S_HZ_OPT_MAX': dtype('float64'), 'S_HZ_CON_MIN': dtype('float64'), 'S_HZ_CON_MAX': dtype('float64'), 'S_HZ_CON0_MIN': dtype('float64'), 'S_HZ_CON0_MAX': dtype('float64'), 'S_HZ_CON1_MIN': dtype('float64'), 'S_HZ_CON1_MAX': dtype('float64'), 'S_SNOW_LINE': dtype('float64'), 'S_ABIO_ZONE': dtype('float64'), 'S_TIDAL_LOCK': dtype('float64'), 'P_HABZONE_OPT': dtype('int64'), 'P_HABZONE_CON': dtype('int64'), 'P_TYPE_TEMP': dtype('O'), 'P_HABITABLE': dtype('int64'), 'P_ESI': dtype('float64'), 'S_CONSTELLATION': dtype('O'), 'S_CONSTELLATION_ABR': dtype('O'), 'S_CONSTELLATION_ENG': dtype('O')}\n"
     ]
    }
   ],
   "source": [
    "print(df_habitable.dtypes.to_dict())"
   ]
  },
  {
   "cell_type": "code",
   "execution_count": 74,
   "metadata": {},
   "outputs": [
    {
     "name": "stdout",
     "output_type": "stream",
     "text": [
      "count    69.000000\n",
      "mean      3.971343\n",
      "std       2.271671\n",
      "min       0.388000\n",
      "25%       2.210000\n",
      "50%       3.820000\n",
      "75%       5.480000\n",
      "max       9.440000\n",
      "Name: P_MASS, dtype: float64\n"
     ]
    }
   ],
   "source": [
    "print(df_habitable_only[\"P_MASS\"].describe())"
   ]
  },
  {
   "cell_type": "code",
   "execution_count": 61,
   "metadata": {},
   "outputs": [],
   "source": [
    "from scipy import stats"
   ]
  },
  {
   "cell_type": "code",
   "execution_count": 63,
   "metadata": {},
   "outputs": [
    {
     "name": "stdout",
     "output_type": "stream",
     "text": [
      "KruskalResult(statistic=0.5400000000000027, pvalue=0.4624327264504752)\n"
     ]
    }
   ],
   "source": [
    "x = [1.3, 3.5, 5.4, 7.2, 9.1]\n",
    "y = [2.11, 4.23, 0.6, 7.8]\n",
    "print(stats.kruskal(x, y))"
   ]
  },
  {
   "cell_type": "code",
   "execution_count": 64,
   "metadata": {},
   "outputs": [
    {
     "name": "stdout",
     "output_type": "stream",
     "text": [
      "KruskalResult(statistic=nan, pvalue=nan)\n"
     ]
    }
   ],
   "source": [
    "print(stats.kruskal(df_habitable_only[\"P_PERIOD\"].tolist(), df_habitable[\"P_PERIOD\"].tolist()))"
   ]
  },
  {
   "cell_type": "code",
   "execution_count": 90,
   "metadata": {},
   "outputs": [],
   "source": [
    "item_kuskral = ['P_MASS','P_RADIUS',\"P_PERIOD\",'P_SEMI_MAJOR_AXIS','P_ECCENTRICITY','P_INCLINATION','P_OMEGA',\n",
    "               'S_RA','S_DEC','S_MAG','S_DISTANCE','S_TEMPERATURE','S_MASS','S_RADIUS','S_METALLICITY','S_AGE','S_LOG_LUM',\n",
    "               'S_LOG_G','P_ESCAPE','P_POTENTIAL','P_GRAVITY','P_DENSITY','P_HILL_SPHERE','P_DISTANCE','P_PERIASTRON','P_APASTRON',\n",
    "               'P_DISTANCE_EFF','P_FLUX','P_TEMP_EQUIL','P_TEMP_SURF','S_LUMINOSITY','S_SNOW_LINE','S_ABIO_ZONE','S_TIDAL_LOCK','P_ESI',\n",
    "               ]"
   ]
  },
  {
   "cell_type": "code",
   "execution_count": 5,
   "metadata": {},
   "outputs": [],
   "source": [
    "df_nonhabitable_only = df_habitable[df_habitable[\"P_HABITABLE\"].isin([0])]"
   ]
  },
  {
   "cell_type": "code",
   "execution_count": 6,
   "metadata": {},
   "outputs": [
    {
     "name": "stdout",
     "output_type": "stream",
     "text": [
      "(5500, 115)\n"
     ]
    }
   ],
   "source": [
    "print(df_nonhabitable_only.shape)"
   ]
  },
  {
   "cell_type": "code",
   "execution_count": 91,
   "metadata": {},
   "outputs": [],
   "source": [
    "import statistics\n",
    "med_list_non_habitable = []\n",
    "med_list_habitable = []\n",
    "p_values = []\n",
    "#item_kuskral = ['P_PERIOD']\n",
    "for eachitem in item_kuskral:\n",
    "    list_non_hab = df_nonhabitable_only[eachitem].tolist()\n",
    "    list_non_hab = [x for x in list_non_hab if str(x) != 'nan']\n",
    "    list_hab = df_habitable_only[eachitem].tolist()\n",
    "    list_hab = [x for x in list_hab if str(x) != 'nan']\n",
    "    med_list_habitable.append(statistics.median(list_hab))\n",
    "    med_list_non_habitable.append(statistics.median(list_non_hab))\n",
    "    s, p = stats.kruskal(list_hab, list_non_hab)\n",
    "    p_values.append(p)\n",
    "\n",
    "df_stats = pd.DataFrame({'Var': item_kuskral,'Hab_Planet':med_list_habitable,'Non_Hab_Planet':med_list_non_habitable,'p_values':p_values})\n",
    "    \n",
    "    "
   ]
  },
  {
   "cell_type": "code",
   "execution_count": 92,
   "metadata": {},
   "outputs": [
    {
     "data": {
      "text/html": [
       "<div>\n",
       "<style scoped>\n",
       "    .dataframe tbody tr th:only-of-type {\n",
       "        vertical-align: middle;\n",
       "    }\n",
       "\n",
       "    .dataframe tbody tr th {\n",
       "        vertical-align: top;\n",
       "    }\n",
       "\n",
       "    .dataframe thead th {\n",
       "        text-align: right;\n",
       "    }\n",
       "</style>\n",
       "<table border=\"1\" class=\"dataframe\">\n",
       "  <thead>\n",
       "    <tr style=\"text-align: right;\">\n",
       "      <th></th>\n",
       "      <th>Var</th>\n",
       "      <th>Hab_Planet</th>\n",
       "      <th>Non_Hab_Planet</th>\n",
       "      <th>p_values</th>\n",
       "    </tr>\n",
       "  </thead>\n",
       "  <tbody>\n",
       "    <tr>\n",
       "      <td>0</td>\n",
       "      <td>P_MASS</td>\n",
       "      <td>3.820000</td>\n",
       "      <td>8.700000</td>\n",
       "      <td>2.466732e-14</td>\n",
       "    </tr>\n",
       "    <tr>\n",
       "      <td>1</td>\n",
       "      <td>P_RADIUS</td>\n",
       "      <td>1.780000</td>\n",
       "      <td>2.810000</td>\n",
       "      <td>3.680643e-14</td>\n",
       "    </tr>\n",
       "    <tr>\n",
       "      <td>2</td>\n",
       "      <td>P_PERIOD</td>\n",
       "      <td>36.116000</td>\n",
       "      <td>11.390967</td>\n",
       "      <td>1.127631e-08</td>\n",
       "    </tr>\n",
       "    <tr>\n",
       "      <td>3</td>\n",
       "      <td>P_SEMI_MAJOR_AXIS</td>\n",
       "      <td>0.164000</td>\n",
       "      <td>0.101700</td>\n",
       "      <td>3.513590e-02</td>\n",
       "    </tr>\n",
       "    <tr>\n",
       "      <td>4</td>\n",
       "      <td>P_ECCENTRICITY</td>\n",
       "      <td>0.050500</td>\n",
       "      <td>0.000000</td>\n",
       "      <td>4.346340e-05</td>\n",
       "    </tr>\n",
       "    <tr>\n",
       "      <td>5</td>\n",
       "      <td>P_INCLINATION</td>\n",
       "      <td>89.814000</td>\n",
       "      <td>88.740000</td>\n",
       "      <td>8.021575e-12</td>\n",
       "    </tr>\n",
       "    <tr>\n",
       "      <td>6</td>\n",
       "      <td>P_OMEGA</td>\n",
       "      <td>88.000000</td>\n",
       "      <td>104.000000</td>\n",
       "      <td>2.227054e-01</td>\n",
       "    </tr>\n",
       "    <tr>\n",
       "      <td>7</td>\n",
       "      <td>S_RA</td>\n",
       "      <td>259.751060</td>\n",
       "      <td>286.036300</td>\n",
       "      <td>1.475068e-02</td>\n",
       "    </tr>\n",
       "    <tr>\n",
       "      <td>8</td>\n",
       "      <td>S_DEC</td>\n",
       "      <td>5.225807</td>\n",
       "      <td>39.940657</td>\n",
       "      <td>1.367964e-02</td>\n",
       "    </tr>\n",
       "    <tr>\n",
       "      <td>9</td>\n",
       "      <td>S_MAG</td>\n",
       "      <td>13.979000</td>\n",
       "      <td>13.472000</td>\n",
       "      <td>1.811184e-02</td>\n",
       "    </tr>\n",
       "    <tr>\n",
       "      <td>10</td>\n",
       "      <td>S_DISTANCE</td>\n",
       "      <td>31.126500</td>\n",
       "      <td>420.000000</td>\n",
       "      <td>1.218882e-18</td>\n",
       "    </tr>\n",
       "    <tr>\n",
       "      <td>11</td>\n",
       "      <td>S_TEMPERATURE</td>\n",
       "      <td>3461.000000</td>\n",
       "      <td>5564.500000</td>\n",
       "      <td>1.485714e-31</td>\n",
       "    </tr>\n",
       "    <tr>\n",
       "      <td>12</td>\n",
       "      <td>S_MASS</td>\n",
       "      <td>0.420000</td>\n",
       "      <td>0.950000</td>\n",
       "      <td>9.586244e-31</td>\n",
       "    </tr>\n",
       "    <tr>\n",
       "      <td>13</td>\n",
       "      <td>S_RADIUS</td>\n",
       "      <td>0.420000</td>\n",
       "      <td>0.960000</td>\n",
       "      <td>2.321000e-33</td>\n",
       "    </tr>\n",
       "    <tr>\n",
       "      <td>14</td>\n",
       "      <td>S_METALLICITY</td>\n",
       "      <td>-0.130000</td>\n",
       "      <td>0.020000</td>\n",
       "      <td>1.359061e-09</td>\n",
       "    </tr>\n",
       "    <tr>\n",
       "      <td>15</td>\n",
       "      <td>S_AGE</td>\n",
       "      <td>4.035000</td>\n",
       "      <td>3.980000</td>\n",
       "      <td>7.225457e-01</td>\n",
       "    </tr>\n",
       "    <tr>\n",
       "      <td>16</td>\n",
       "      <td>S_LOG_LUM</td>\n",
       "      <td>-1.640000</td>\n",
       "      <td>-0.056000</td>\n",
       "      <td>7.618609e-34</td>\n",
       "    </tr>\n",
       "    <tr>\n",
       "      <td>17</td>\n",
       "      <td>S_LOG_G</td>\n",
       "      <td>4.780000</td>\n",
       "      <td>4.450000</td>\n",
       "      <td>1.659868e-31</td>\n",
       "    </tr>\n",
       "    <tr>\n",
       "      <td>18</td>\n",
       "      <td>P_ESCAPE</td>\n",
       "      <td>1.465228</td>\n",
       "      <td>1.739969</td>\n",
       "      <td>8.884671e-14</td>\n",
       "    </tr>\n",
       "    <tr>\n",
       "      <td>19</td>\n",
       "      <td>P_POTENTIAL</td>\n",
       "      <td>2.146893</td>\n",
       "      <td>3.027491</td>\n",
       "      <td>8.884671e-14</td>\n",
       "    </tr>\n",
       "    <tr>\n",
       "      <td>20</td>\n",
       "      <td>P_GRAVITY</td>\n",
       "      <td>1.140493</td>\n",
       "      <td>1.155939</td>\n",
       "      <td>5.965233e-01</td>\n",
       "    </tr>\n",
       "    <tr>\n",
       "      <td>21</td>\n",
       "      <td>P_DENSITY</td>\n",
       "      <td>0.677335</td>\n",
       "      <td>0.464348</td>\n",
       "      <td>3.916951e-07</td>\n",
       "    </tr>\n",
       "    <tr>\n",
       "      <td>22</td>\n",
       "      <td>P_HILL_SPHERE</td>\n",
       "      <td>0.003238</td>\n",
       "      <td>0.002399</td>\n",
       "      <td>2.986249e-01</td>\n",
       "    </tr>\n",
       "    <tr>\n",
       "      <td>23</td>\n",
       "      <td>P_DISTANCE</td>\n",
       "      <td>0.164000</td>\n",
       "      <td>0.102100</td>\n",
       "      <td>3.172618e-02</td>\n",
       "    </tr>\n",
       "    <tr>\n",
       "      <td>24</td>\n",
       "      <td>P_PERIASTRON</td>\n",
       "      <td>0.156441</td>\n",
       "      <td>0.097421</td>\n",
       "      <td>8.377594e-02</td>\n",
       "    </tr>\n",
       "    <tr>\n",
       "      <td>25</td>\n",
       "      <td>P_APASTRON</td>\n",
       "      <td>0.182017</td>\n",
       "      <td>0.105000</td>\n",
       "      <td>1.763224e-02</td>\n",
       "    </tr>\n",
       "    <tr>\n",
       "      <td>26</td>\n",
       "      <td>P_DISTANCE_EFF</td>\n",
       "      <td>0.164000</td>\n",
       "      <td>0.101900</td>\n",
       "      <td>3.413164e-02</td>\n",
       "    </tr>\n",
       "    <tr>\n",
       "      <td>27</td>\n",
       "      <td>P_FLUX</td>\n",
       "      <td>0.859827</td>\n",
       "      <td>69.446182</td>\n",
       "      <td>2.710045e-32</td>\n",
       "    </tr>\n",
       "    <tr>\n",
       "      <td>28</td>\n",
       "      <td>P_TEMP_EQUIL</td>\n",
       "      <td>244.095630</td>\n",
       "      <td>733.541870</td>\n",
       "      <td>5.069383e-32</td>\n",
       "    </tr>\n",
       "    <tr>\n",
       "      <td>29</td>\n",
       "      <td>P_TEMP_SURF</td>\n",
       "      <td>275.667660</td>\n",
       "      <td>925.078500</td>\n",
       "      <td>5.832343e-45</td>\n",
       "    </tr>\n",
       "    <tr>\n",
       "      <td>30</td>\n",
       "      <td>S_LUMINOSITY</td>\n",
       "      <td>0.022909</td>\n",
       "      <td>0.879023</td>\n",
       "      <td>8.063590e-34</td>\n",
       "    </tr>\n",
       "    <tr>\n",
       "      <td>31</td>\n",
       "      <td>S_SNOW_LINE</td>\n",
       "      <td>0.408662</td>\n",
       "      <td>2.531417</td>\n",
       "      <td>8.063590e-34</td>\n",
       "    </tr>\n",
       "    <tr>\n",
       "      <td>32</td>\n",
       "      <td>S_ABIO_ZONE</td>\n",
       "      <td>0.028518</td>\n",
       "      <td>1.381954</td>\n",
       "      <td>6.285261e-32</td>\n",
       "    </tr>\n",
       "    <tr>\n",
       "      <td>33</td>\n",
       "      <td>S_TIDAL_LOCK</td>\n",
       "      <td>0.318803</td>\n",
       "      <td>0.444443</td>\n",
       "      <td>3.614636e-22</td>\n",
       "    </tr>\n",
       "    <tr>\n",
       "      <td>34</td>\n",
       "      <td>P_ESI</td>\n",
       "      <td>0.729321</td>\n",
       "      <td>0.266366</td>\n",
       "      <td>1.805957e-45</td>\n",
       "    </tr>\n",
       "  </tbody>\n",
       "</table>\n",
       "</div>"
      ],
      "text/plain": [
       "                  Var   Hab_Planet  Non_Hab_Planet      p_values\n",
       "0              P_MASS     3.820000        8.700000  2.466732e-14\n",
       "1            P_RADIUS     1.780000        2.810000  3.680643e-14\n",
       "2            P_PERIOD    36.116000       11.390967  1.127631e-08\n",
       "3   P_SEMI_MAJOR_AXIS     0.164000        0.101700  3.513590e-02\n",
       "4      P_ECCENTRICITY     0.050500        0.000000  4.346340e-05\n",
       "5       P_INCLINATION    89.814000       88.740000  8.021575e-12\n",
       "6             P_OMEGA    88.000000      104.000000  2.227054e-01\n",
       "7                S_RA   259.751060      286.036300  1.475068e-02\n",
       "8               S_DEC     5.225807       39.940657  1.367964e-02\n",
       "9               S_MAG    13.979000       13.472000  1.811184e-02\n",
       "10         S_DISTANCE    31.126500      420.000000  1.218882e-18\n",
       "11      S_TEMPERATURE  3461.000000     5564.500000  1.485714e-31\n",
       "12             S_MASS     0.420000        0.950000  9.586244e-31\n",
       "13           S_RADIUS     0.420000        0.960000  2.321000e-33\n",
       "14      S_METALLICITY    -0.130000        0.020000  1.359061e-09\n",
       "15              S_AGE     4.035000        3.980000  7.225457e-01\n",
       "16          S_LOG_LUM    -1.640000       -0.056000  7.618609e-34\n",
       "17            S_LOG_G     4.780000        4.450000  1.659868e-31\n",
       "18           P_ESCAPE     1.465228        1.739969  8.884671e-14\n",
       "19        P_POTENTIAL     2.146893        3.027491  8.884671e-14\n",
       "20          P_GRAVITY     1.140493        1.155939  5.965233e-01\n",
       "21          P_DENSITY     0.677335        0.464348  3.916951e-07\n",
       "22      P_HILL_SPHERE     0.003238        0.002399  2.986249e-01\n",
       "23         P_DISTANCE     0.164000        0.102100  3.172618e-02\n",
       "24       P_PERIASTRON     0.156441        0.097421  8.377594e-02\n",
       "25         P_APASTRON     0.182017        0.105000  1.763224e-02\n",
       "26     P_DISTANCE_EFF     0.164000        0.101900  3.413164e-02\n",
       "27             P_FLUX     0.859827       69.446182  2.710045e-32\n",
       "28       P_TEMP_EQUIL   244.095630      733.541870  5.069383e-32\n",
       "29        P_TEMP_SURF   275.667660      925.078500  5.832343e-45\n",
       "30       S_LUMINOSITY     0.022909        0.879023  8.063590e-34\n",
       "31        S_SNOW_LINE     0.408662        2.531417  8.063590e-34\n",
       "32        S_ABIO_ZONE     0.028518        1.381954  6.285261e-32\n",
       "33       S_TIDAL_LOCK     0.318803        0.444443  3.614636e-22\n",
       "34              P_ESI     0.729321        0.266366  1.805957e-45"
      ]
     },
     "metadata": {},
     "output_type": "display_data"
    }
   ],
   "source": [
    "display(df_stats)"
   ]
  },
  {
   "cell_type": "code",
   "execution_count": 93,
   "metadata": {},
   "outputs": [],
   "source": [
    "df_stats.to_csv(\"data_significance.csv\",sep=\",\", index=False)"
   ]
  },
  {
   "cell_type": "code",
   "execution_count": 9,
   "metadata": {},
   "outputs": [],
   "source": [
    "from scipy.stats import chi2_contingency\n"
   ]
  },
  {
   "cell_type": "code",
   "execution_count": 33,
   "metadata": {},
   "outputs": [
    {
     "name": "stdout",
     "output_type": "stream",
     "text": [
      "P_MASS_ORIGIN\n",
      "M-R relationship 42.029 52.018\n",
      "Msini 42.029 14.982\n",
      "Mass 15.942 32.636\n",
      "----------------------\n",
      "P_DETECTION\n",
      "Transit 57.971 74.745\n",
      "Radial Velocity 42.029 19.018\n",
      "----------------------\n",
      "S_TYPE_TEMP\n",
      "M 73.913 8.982\n",
      "G 5.797 42.655\n",
      "K 20.29 26.491\n",
      "----------------------\n",
      "S_CONSTELLATION\n",
      "Dorado 4.348 0.345\n",
      "Eridanus 5.797 1.255\n",
      "Hydra 2.899 1.145\n",
      "Lyra 14.493 18.836\n",
      "Cygnus 18.841 29.855\n",
      "Virgo 4.348 3.4\n",
      "Cepheus 1.449 0.473\n",
      "Draco 2.899 4.4\n",
      "Aquarius 7.246 2.127\n",
      "Leo 2.899 1.364\n",
      "Cetus 4.348 1.491\n",
      "Ophiuchus 1.449 1.182\n",
      "Scorpius 5.797 1.618\n",
      "Puppis 1.449 0.564\n",
      "Volans 1.449 0.255\n",
      "Taurus 1.449 1.564\n",
      "Camelopardalis 1.449 0.382\n",
      "Lepus 1.449 0.527\n",
      "Canis Minor 1.449 0.182\n",
      "Horologium 2.899 0.2\n",
      "Libra 1.449 0.745\n",
      "Aries 2.899 0.364\n",
      "Pictor 1.449 0.418\n",
      "Cancer 1.449 2.327\n",
      "Centaurus 1.449 1.145\n",
      "Serpens 1.449 0.436\n",
      "Vela 1.449 0.455\n",
      "----------------------\n",
      "S_TYPE\n",
      "M2.5 V 7.246 0.327\n",
      "M2.5 1.449 0.109\n",
      "M2 V 4.348 0.236\n",
      "M2V 1.449 0.018\n",
      "M6 V 1.449 0.018\n",
      "G2 1.449 0.273\n",
      "K2 1.449 0.218\n",
      "K2 V 2.899 0.764\n",
      "M5.5 V 7.246 0.055\n",
      "M3.5 2.899 0.109\n",
      "M3.5 V 1.449 0.2\n",
      "M0 1.449 0.273\n",
      "M1.5 V 4.348 0.291\n",
      "M4 2.899 0.273\n",
      "M3 V 1.449 0.273\n",
      "G5 V 1.449 1.0\n",
      "M V 1.449 0.218\n",
      "M3 2.899 0.091\n",
      "M 1.449 0.273\n",
      "M4.0 V 1.449 0.055\n",
      "M1 1.449 0.291\n",
      "M4.5 V 2.899 0.2\n",
      "M0 V 1.449 1.0\n",
      "K2.5 V 1.449 0.182\n",
      "M5.0 V 1.449 0.036\n",
      "M1.0 V 1.449 0.182\n",
      "----------------------\n"
     ]
    }
   ],
   "source": [
    "categorical_tables = ['P_MASS_ORIGIN', 'P_DETECTION','S_TYPE_TEMP','S_CONSTELLATION','S_TYPE']\n",
    "for x in categorical_tables:\n",
    "    print(x)\n",
    "    itemA = df_habitable_only[x].tolist()\n",
    "    cA = Counter(itemA)\n",
    "    #print(cA)\n",
    "    itemB = df_nonhabitable_only[x].tolist()\n",
    "    cB = Counter(itemB)\n",
    "    #print(cB)\n",
    "    table = []\n",
    "    for k, v in cA.items():\n",
    "        if str(k) != \"nan\":\n",
    "            numA = cA.get(k)\n",
    "            numB = cB.get(k)\n",
    "            if numB is not None:\n",
    "                print(k, round((numA/69)*100,3), round((numB/5500)*100,3 ))\n",
    "                table.append([numA, numB])\n",
    "        else:\n",
    "            continue\n",
    "    print(table)\n",
    "    chi2_stat, p, dof, expected = chi2_contingency(table)\n",
    "    print(f\"chi2 statistic:     {chi2_stat:.5g}\")\n",
    "    print(f\"p-value:            {p:.5g}\")\n",
    "    print(f\"degrees of freedom: {dof}\")\n",
    "    print(\"----------------------\")\n"
   ]
  },
  {
   "cell_type": "code",
   "execution_count": 35,
   "metadata": {},
   "outputs": [
    {
     "name": "stdout",
     "output_type": "stream",
     "text": [
      "Counter({'TRAPPIST-1': 4, 'GJ 667 C': 3, 'TOI-700': 2, 'GJ 180': 2, 'Kepler-296': 2, 'Kepler-62': 2, 'GJ 1002': 2, 'GJ 1061': 2, \"Teegarden's Star\": 2, 'GJ 3293': 1, 'GJ 433': 1, 'LP 890-9': 1, 'Kepler-705': 1, 'Kepler-452': 1, 'Kepler-1649': 1, 'K2-9': 1, 'Kepler-1544': 1, 'Kepler-1410': 1, 'Kepler-1540': 1, 'Kepler-1606': 1, 'Kepler-1653': 1, 'HD 216520': 1, 'Kepler-283': 1, 'K2-18': 1, 'Wolf 1061': 1, 'GJ 682': 1, 'HIP 38594': 1, 'Kepler-1701': 1, 'GJ 357': 1, 'GJ 514': 1, 'TOI-715': 1, 'K2-288 B': 1, 'Kepler-22': 1, 'K2-3': 1, 'Kepler-174': 1, 'Kepler-440': 1, 'Kepler-442': 1, 'Ross 128': 1, 'TOI-2257': 1, 'GJ 229': 1, 'GJ 273': 1, 'GJ 163': 1, 'HN Lib': 1, 'Kepler-1638': 1, 'Kepler-1652': 1, 'Kepler-186': 1, 'LHS 1140': 1, 'Kepler-1229': 1, 'Kepler-155': 1, 'HD 40307': 1, 'K2-72': 1, 'Kepler-443': 1, 'K2-332': 1, 'Proxima Cen': 1, 'Ross 508': 1, 'Wolf 1069': 1, 'GJ 367': 1})\n"
     ]
    }
   ],
   "source": [
    "print(Counter(df_habitable_only[\"S_NAME\"].tolist()))"
   ]
  },
  {
   "cell_type": "code",
   "execution_count": 36,
   "metadata": {},
   "outputs": [
    {
     "name": "stdout",
     "output_type": "stream",
     "text": [
      "(5569, 115)\n"
     ]
    }
   ],
   "source": [
    "print(df_habitable.shape)"
   ]
  },
  {
   "cell_type": "code",
   "execution_count": 100,
   "metadata": {},
   "outputs": [
    {
     "data": {
      "image/png": "[encoded data removed]",
      "text/plain": [
       "<Figure size 640x480 with 1 Axes>"
      ]
     },
     "metadata": {},
     "output_type": "display_data"
    }
   ],
   "source": [
    "import matplotlib.pyplot as plt\n",
    "import numpy as np\n",
    "\n",
    "labels, values = zip(*Counter(df_habitable[\"P_DETECTION\"]).items())\n",
    "\n",
    "indexes = np.arange(len(labels))\n",
    "width = 1\n",
    "\n",
    "plt.pie(values)\n",
    "value_per = []\n",
    "for x in values:\n",
    "    value_per.append(round((x/5569)*100,3))\n",
    "#plt.xticks(indexes + width * 0.5, labels)\n",
    "#value_per = sorted(value_per)\n",
    "labels = [f'{l}, {s:0.1f}%' for l, s in zip(labels, value_per)]\n",
    "plt.legend(bbox_to_anchor=(-0.19, 0.75), loc='upper left', labels=labels, fontsize=10)\n",
    "plt.title(\"Pie Chart For Exoplanet Detection Methods\", y=0.93)\n",
    "plt.tight_layout()\n",
    "plt.savefig(\"piechat_exoplanet.png\", dpi=300)\n",
    "plt.show()"
   ]
  },
  {
   "cell_type": "code",
   "execution_count": 158,
   "metadata": {},
   "outputs": [
    {
     "name": "stdout",
     "output_type": "stream",
     "text": [
      "[0.09, 0.33, 0.42, 0.43, 0.5, 0.69, 0.12, 0.12, 0.09]\n"
     ]
    }
   ],
   "source": [
    "labels = ['TRAPPIST-1', 'GJ 667 C', 'TOI-700', 'GJ 180', \n",
    "        'Kepler-296', 'Kepler-62', 'GJ 1002', 'GJ 1061', \n",
    "        \"Teegarden's Star\"]\n",
    "light_year = []\n",
    "for x in labels:\n",
    "    light_year.append((df_habitable_only[df_habitable_only[\"S_NAME\"] == x]).iloc[0][\"S_MASS\"])\n",
    "print(light_year)"
   ]
  },
  {
   "cell_type": "code",
   "execution_count": 166,
   "metadata": {},
   "outputs": [
    {
     "name": "stdout",
     "output_type": "stream",
     "text": [
      "[2, 2, 2, 2, 2, 2, 2, 3, 4]\n"
     ]
    },
    {
     "data": {
      "image/png": "[encoded data removed]",
      "text/plain": [
       "<Figure size 640x480 with 1 Axes>"
      ]
     },
     "metadata": {},
     "output_type": "display_data"
    }
   ],
   "source": [
    "\n",
    "labels, values = zip(*Counter(df_habitable_only[\"S_NAME\"]).items())\n",
    "width = 0.8\n",
    "values = [x for x in values if x > 1]\n",
    "values = sorted(values)\n",
    "indexes = np.arange(len(values))\n",
    "print(values)\n",
    "fig, ax = plt.subplots()\n",
    "ax.barh(indexes, values, width, color=\"green\")\n",
    "labels = ['TRAPPIST-1', 'GJ 667 C', 'TOI-700', 'GJ 180', \n",
    "        'Kepler-296', 'Kepler-62', 'GJ 1002', 'GJ 1061', \n",
    "        \"Teegarden's Star\"][::-1]\n",
    "\n",
    "plt.yticks(indexes + width * 0.1, labels, fontsize=6)\n",
    "values_re = values[::-1]\n",
    "for i, v in enumerate(light_year[::-1]):\n",
    "    ax.text(values[i], i, str(round(v,2)), color='blue')\n",
    "\n",
    "ax.set_title(\"Horizontal bar plot for stars with more than one habitable planet\")\n",
    "plt.savefig(\"barh_stars.png\", dpi=300)\n",
    "plt.show()"
   ]
  },
  {
   "cell_type": "code",
   "execution_count": null,
   "metadata": {},
   "outputs": [],
   "source": []
  }
 ],
 "metadata": {
  "kernelspec": {
   "display_name": "Python 3 (ipykernel)",
   "language": "python",
   "name": "python3"
  },
  "language_info": {
   "codemirror_mode": {
    "name": "ipython",
    "version": 3
   },
   "file_extension": ".py",
   "mimetype": "text/x-python",
   "name": "python",
   "nbconvert_exporter": "python",
   "pygments_lexer": "ipython3",
   "version": "3.9.0"
  }
 },
 "nbformat": 4,
 "nbformat_minor": 4
}
