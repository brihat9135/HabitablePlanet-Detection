{
 "cells": [
  {
   "cell_type": "code",
   "execution_count": 65,
   "id": "aa8b26d6-5edc-4186-9701-2d088a670c00",
   "metadata": {},
   "outputs": [],
   "source": [
    "import autogluon\n",
    "import autogluon.core as ag\n",
    "import pandas as pd\n",
    "import pickle\n",
    "import os\n",
    "import matplotlib.pyplot as plt\n",
    "import numpy as np\n",
    "from collections import Counter\n",
    "from sklearn.model_selection import train_test_split\n",
    "from sklearn.metrics import auc, precision_recall_curve\n",
    "from autogluon.tabular import TabularPredictor\n",
    "from sklearn.calibration import CalibratedClassifierCV\n",
    "from sklearn.metrics import classification_report\n",
    "from sklearn.metrics import confusion_matrix"
   ]
  },
  {
   "cell_type": "code",
   "execution_count": 66,
   "id": "0ccadc86-0dbd-4bcc-b56a-efec8d7573b3",
   "metadata": {},
   "outputs": [],
   "source": [
    "df_data = pd.read_csv(\"hwc.csv\")"
   ]
  },
  {
   "cell_type": "code",
   "execution_count": 67,
   "id": "b35bafb6-c718-4082-8cf7-40fb78bc3cf1",
   "metadata": {},
   "outputs": [
    {
     "name": "stdout",
     "output_type": "stream",
     "text": [
      "(5569, 115)\n"
     ]
    }
   ],
   "source": [
    "print(df_data.shape)"
   ]
  },
  {
   "cell_type": "code",
   "execution_count": 68,
   "id": "336ed376-173c-4d03-b5be-9dad99364a8a",
   "metadata": {},
   "outputs": [],
   "source": [
    "df_data[\"label\"] = df_data[\"P_HABITABLE\"].apply(lambda x: 0 if x == 0 else 1)"
   ]
  },
  {
   "cell_type": "code",
   "execution_count": 6,
   "id": "4699cd74-858a-4870-9792-1063e7e282a5",
   "metadata": {},
   "outputs": [
    {
     "name": "stdout",
     "output_type": "stream",
     "text": [
      "Counter({0: 5500, 1: 69})\n"
     ]
    }
   ],
   "source": [
    "print(Counter(df_data[\"label\"].tolist()))"
   ]
  },
  {
   "cell_type": "code",
   "execution_count": 69,
   "id": "8b971130-81e4-43e6-b27c-1389aed91ab8",
   "metadata": {},
   "outputs": [],
   "source": [
    "df_train, df_test = train_test_split(df_data, test_size=0.3, random_state=2024)"
   ]
  },
  {
   "cell_type": "code",
   "execution_count": 8,
   "id": "f91f5b74-ff6c-4403-848c-c86465f79688",
   "metadata": {},
   "outputs": [
    {
     "name": "stdout",
     "output_type": "stream",
     "text": [
      "Counter({0: 1654, 1: 17})\n"
     ]
    }
   ],
   "source": [
    "print(Counter(df_test[\"label\"].tolist()))"
   ]
  },
  {
   "cell_type": "code",
   "execution_count": 9,
   "id": "5aa64cd7-8010-470b-9c6c-69ca808e3fb8",
   "metadata": {},
   "outputs": [
    {
     "name": "stdout",
     "output_type": "stream",
     "text": [
      "Counter({0: 3846, 1: 52})\n"
     ]
    }
   ],
   "source": [
    "print(Counter(df_train[\"label\"].tolist()))"
   ]
  },
  {
   "cell_type": "code",
   "execution_count": 70,
   "id": "3b30563c-d57d-412a-ac02-bfc90e1a21c4",
   "metadata": {},
   "outputs": [
    {
     "name": "stdout",
     "output_type": "stream",
     "text": [
      "['P_NAME', 'P_DETECTION', 'P_DISCOVERY_FACILITY', 'P_YEAR', 'P_MASS', 'P_MASS_ERROR_MIN', 'P_MASS_ERROR_MAX', 'P_MASS_LIMIT', 'P_MASS_ORIGIN', 'P_RADIUS', 'P_RADIUS_ERROR_MIN', 'P_RADIUS_ERROR_MAX', 'P_RADIUS_LIMIT', 'P_PERIOD', 'P_PERIOD_ERROR_MIN', 'P_PERIOD_ERROR_MAX', 'P_PERIOD_LIMIT', 'P_SEMI_MAJOR_AXIS', 'P_SEMI_MAJOR_AXIS_ERROR_MIN', 'P_SEMI_MAJOR_AXIS_ERROR_MAX', 'P_SEMI_MAJOR_AXIS_LIMIT', 'P_ECCENTRICITY', 'P_ECCENTRICITY_ERROR_MIN', 'P_ECCENTRICITY_ERROR_MAX', 'P_ECCENTRICITY_LIMIT', 'P_INCLINATION', 'P_INCLINATION_ERROR_MIN', 'P_INCLINATION_ERROR_MAX', 'P_INCLINATION_LIMIT', 'P_OMEGA', 'P_OMEGA_ERROR_MIN', 'P_OMEGA_ERROR_MAX', 'P_OMEGA_LIMIT', 'S_NAME', 'S_TYPE', 'S_RA', 'S_DEC', 'S_RA_STR', 'S_DEC_STR', 'S_MAG', 'S_MAG_ERROR_MIN', 'S_MAG_ERROR_MAX', 'S_DISTANCE', 'S_DISTANCE_ERROR_MIN', 'S_DISTANCE_ERROR_MAX', 'S_TEMPERATURE', 'S_TEMPERATURE_ERROR_MIN', 'S_TEMPERATURE_ERROR_MAX', 'S_TEMPERATURE_LIMIT', 'S_MASS', 'S_MASS_ERROR_MIN', 'S_MASS_ERROR_MAX', 'S_MASS_LIMIT', 'S_RADIUS', 'S_RADIUS_ERROR_MIN', 'S_RADIUS_ERROR_MAX', 'S_RADIUS_LIMIT', 'S_METALLICITY', 'S_METALLICITY_ERROR_MIN', 'S_METALLICITY_ERROR_MAX', 'S_METALLICITY_LIMIT', 'S_AGE', 'S_AGE_ERROR_MIN', 'S_AGE_ERROR_MAX', 'S_AGE_LIMIT', 'S_LOG_LUM', 'S_LOG_LUM_ERROR_MIN', 'S_LOG_LUM_ERROR_MAX', 'S_LOG_LUM_LIMIT', 'S_LOG_G', 'S_LOG_G_ERROR_MIN', 'S_LOG_G_ERROR_MAX', 'S_LOG_G_LIMIT', 'P_ESCAPE', 'P_POTENTIAL', 'P_GRAVITY', 'P_DENSITY', 'P_HILL_SPHERE', 'P_DISTANCE', 'P_PERIASTRON', 'P_APASTRON', 'P_DISTANCE_EFF', 'P_FLUX', 'P_FLUX_MIN', 'P_FLUX_MAX', 'P_TEMP_EQUIL', 'P_TEMP_EQUIL_MIN', 'P_TEMP_EQUIL_MAX', 'P_TEMP_SURF', 'P_TEMP_SURF_MIN', 'P_TEMP_SURF_MAX', 'P_TYPE', 'S_TYPE_TEMP', 'S_RA_TXT', 'S_DEC_TXT', 'S_LUMINOSITY', 'S_HZ_OPT_MIN', 'S_HZ_OPT_MAX', 'S_HZ_CON_MIN', 'S_HZ_CON_MAX', 'S_HZ_CON0_MIN', 'S_HZ_CON0_MAX', 'S_HZ_CON1_MIN', 'S_HZ_CON1_MAX', 'S_SNOW_LINE', 'S_ABIO_ZONE', 'S_TIDAL_LOCK', 'P_HABZONE_OPT', 'P_HABZONE_CON', 'P_TYPE_TEMP', 'P_HABITABLE', 'P_ESI', 'S_CONSTELLATION', 'S_CONSTELLATION_ABR', 'S_CONSTELLATION_ENG', 'label']\n"
     ]
    }
   ],
   "source": [
    "print(df_train.columns.tolist())"
   ]
  },
  {
   "cell_type": "code",
   "execution_count": 11,
   "id": "7603772e-6ebf-4577-bbc8-aa71d184d63e",
   "metadata": {},
   "outputs": [
    {
     "data": {
      "text/html": [
       "<div>\n",
       "<style scoped>\n",
       "    .dataframe tbody tr th:only-of-type {\n",
       "        vertical-align: middle;\n",
       "    }\n",
       "\n",
       "    .dataframe tbody tr th {\n",
       "        vertical-align: top;\n",
       "    }\n",
       "\n",
       "    .dataframe thead th {\n",
       "        text-align: right;\n",
       "    }\n",
       "</style>\n",
       "<table border=\"1\" class=\"dataframe\">\n",
       "  <thead>\n",
       "    <tr style=\"text-align: right;\">\n",
       "      <th></th>\n",
       "      <th>P_NAME</th>\n",
       "      <th>P_DETECTION</th>\n",
       "      <th>P_DISCOVERY_FACILITY</th>\n",
       "      <th>P_YEAR</th>\n",
       "      <th>P_MASS</th>\n",
       "      <th>P_MASS_ERROR_MIN</th>\n",
       "      <th>P_MASS_ERROR_MAX</th>\n",
       "      <th>P_MASS_LIMIT</th>\n",
       "      <th>P_MASS_ORIGIN</th>\n",
       "      <th>P_RADIUS</th>\n",
       "      <th>...</th>\n",
       "      <th>S_TIDAL_LOCK</th>\n",
       "      <th>P_HABZONE_OPT</th>\n",
       "      <th>P_HABZONE_CON</th>\n",
       "      <th>P_TYPE_TEMP</th>\n",
       "      <th>P_HABITABLE</th>\n",
       "      <th>P_ESI</th>\n",
       "      <th>S_CONSTELLATION</th>\n",
       "      <th>S_CONSTELLATION_ABR</th>\n",
       "      <th>S_CONSTELLATION_ENG</th>\n",
       "      <th>label</th>\n",
       "    </tr>\n",
       "  </thead>\n",
       "  <tbody>\n",
       "    <tr>\n",
       "      <th>3666</th>\n",
       "      <td>HD 168746 b</td>\n",
       "      <td>Radial Velocity</td>\n",
       "      <td>La Silla Observatory</td>\n",
       "      <td>2002</td>\n",
       "      <td>85.8141</td>\n",
       "      <td>-6.3566</td>\n",
       "      <td>6.3566</td>\n",
       "      <td>0</td>\n",
       "      <td>Msini</td>\n",
       "      <td>11.10</td>\n",
       "      <td>...</td>\n",
       "      <td>0.517449</td>\n",
       "      <td>0</td>\n",
       "      <td>0</td>\n",
       "      <td>Hot</td>\n",
       "      <td>0</td>\n",
       "      <td>0.083711</td>\n",
       "      <td>Serpens</td>\n",
       "      <td>Ser</td>\n",
       "      <td>Serpent</td>\n",
       "      <td>0</td>\n",
       "    </tr>\n",
       "    <tr>\n",
       "      <th>1756</th>\n",
       "      <td>Kepler-972 b</td>\n",
       "      <td>Transit</td>\n",
       "      <td>Kepler</td>\n",
       "      <td>2016</td>\n",
       "      <td>19.5000</td>\n",
       "      <td>NaN</td>\n",
       "      <td>NaN</td>\n",
       "      <td>0</td>\n",
       "      <td>M-R relationship</td>\n",
       "      <td>4.65</td>\n",
       "      <td>...</td>\n",
       "      <td>0.445484</td>\n",
       "      <td>0</td>\n",
       "      <td>0</td>\n",
       "      <td>Hot</td>\n",
       "      <td>0</td>\n",
       "      <td>0.162279</td>\n",
       "      <td>Cygnus</td>\n",
       "      <td>Cyg</td>\n",
       "      <td>Swan</td>\n",
       "      <td>0</td>\n",
       "    </tr>\n",
       "  </tbody>\n",
       "</table>\n",
       "<p>2 rows × 116 columns</p>\n",
       "</div>"
      ],
      "text/plain": [
       "            P_NAME      P_DETECTION  P_DISCOVERY_FACILITY  P_YEAR   P_MASS  \\\n",
       "3666   HD 168746 b  Radial Velocity  La Silla Observatory    2002  85.8141   \n",
       "1756  Kepler-972 b          Transit                Kepler    2016  19.5000   \n",
       "\n",
       "      P_MASS_ERROR_MIN  P_MASS_ERROR_MAX  P_MASS_LIMIT     P_MASS_ORIGIN  \\\n",
       "3666           -6.3566            6.3566             0             Msini   \n",
       "1756               NaN               NaN             0  M-R relationship   \n",
       "\n",
       "      P_RADIUS  ...  S_TIDAL_LOCK  P_HABZONE_OPT  P_HABZONE_CON  P_TYPE_TEMP  \\\n",
       "3666     11.10  ...      0.517449              0              0          Hot   \n",
       "1756      4.65  ...      0.445484              0              0          Hot   \n",
       "\n",
       "      P_HABITABLE     P_ESI  S_CONSTELLATION  S_CONSTELLATION_ABR  \\\n",
       "3666            0  0.083711          Serpens                  Ser   \n",
       "1756            0  0.162279           Cygnus                  Cyg   \n",
       "\n",
       "      S_CONSTELLATION_ENG  label  \n",
       "3666              Serpent      0  \n",
       "1756                 Swan      0  \n",
       "\n",
       "[2 rows x 116 columns]"
      ]
     },
     "metadata": {},
     "output_type": "display_data"
    }
   ],
   "source": [
    "display(df_train.head(2))"
   ]
  },
  {
   "cell_type": "code",
   "execution_count": 71,
   "id": "99ce63c8-e8dd-4a60-b19a-7616adf1b645",
   "metadata": {},
   "outputs": [],
   "source": [
    "df_train_final = df_train.drop(['P_HABITABLE','P_HABZONE_OPT','P_HABZONE_CON','P_NAME','P_DETECTION','P_DISCOVERY_FACILITY', \n",
    "                                'P_YEAR','S_NAME',\"P_TYPE\",\"P_TYPE_TEMP\",'P_ESI'],\n",
    "                               axis=1)"
   ]
  },
  {
   "cell_type": "code",
   "execution_count": 72,
   "id": "ebd9ef0a-0524-4573-84e0-3c7fba671374",
   "metadata": {},
   "outputs": [],
   "source": [
    "def pr_auc_function(y_true, y_pred)->float:\n",
    "    precision, recall, _ = precision_recall_curve(y_true, y_pred)\n",
    "    auc_precision_recall = auc(recall, precision)\n",
    "    return auc_precision_recall\n",
    "\n",
    "def train_model(train_data):\n",
    "    if not os.path.exists(\"models/autogluon_model/\"):\n",
    "        os.makedirs(\"models/autogluon_model/\")\n",
    "\n",
    "    model_path = \"models/autogluon_model/\"\n",
    "    print(\"Training started:\")\n",
    "    num_trails = 100\n",
    "    search_strategy = \"auto\"\n",
    "    hyperparameters = {'XGB':{}}\n",
    "\n",
    "    # xgbm_options = {\n",
    "    #     'num_boost_round':100,\n",
    "    #     'num_leaves': autogluon.common.space.Int(lower=20, upper=100, default=36),\n",
    "    #     #'max_depth': autogluon.common.space.Int(lower=3, upper=18, default=5),\n",
    "    #     'gamma': autogluon.common.space.Int(lower=1, upper=9, default=0),\n",
    "    #     'reg_alpha': autogluon.common.space.Int(lower=40, upper=180),\n",
    "    #     'reg_lambda': autogluon.common.space.Int(lower=0, upper=1),\n",
    "    #     'bagging_fraction': autogluon.common.space.Real(0.2, 0.9, default=0.7),\n",
    "    #     'colsample_bytree': autogluon.common.space.Real(0.5, 1, default=0.5),\n",
    "    #     'eta': autogluon.common.space.Real(0.01, 0.2, default=0.1),\n",
    "    #     'min_child_weight': autogluon.common.space.Int(lower=0, upper=10),\n",
    "    #     'subsample': 0.5,\n",
    "    #     'seed':0,\n",
    "    #     'n_estimators':autogluon.common.space.Int(lower=100, upper=1000, default=250),\n",
    "    # }\n",
    "    #hyperparameters = {'XGB': xgbm_options}\n",
    "    hyperparameter_tune_kwargs = {\n",
    "        \"num_trails\": num_trails,\n",
    "        \"scheduler\": \"local\",\n",
    "        \"searcher\": search_strategy,\n",
    "    }\n",
    "    \n",
    "    pr_auc = ag.metrics.make_scorer(name=\"praucscore\",\n",
    "                                    score_func=pr_auc_function,\n",
    "                                    optimum=1,\n",
    "                                    greater_is_better=True)\n",
    "\n",
    "    model = TabularPredictor(label=\"label\", eval_metric = pr_auc, sample_weight='auto_weight', path=model_path).fit(\n",
    "        train_data=train_data,\n",
    "        #hyperparameters=hyperparameters, hyperparameter_tune_kwargs=hyperparameter_tune_kwargs,\n",
    "        hyperparameters=hyperparameters,\n",
    "        presets=\"medium_quality\",\n",
    "    )\n",
    "\n",
    "\n",
    "def generatePRAUC_CURVE(recall, precision, prauc):\n",
    "\n",
    "    if not os.path.exists(\"models/plots\"):\n",
    "        os.makedirs(\"models/plots\")\n",
    "\n",
    "    r_rgb = (251, 128, 114)\n",
    "    r_rgb = [x/256.0 for x in r_rgb]\n",
    "    plt.figure()\n",
    "    plt.plot(recall, precision, label=\"auc: \" + str(round(prauc, 3)), color=r_rgb)\n",
    "    plt.title(\"PR AUC plot for Habitable Planet\")\n",
    "    plt.xlabel(\"Recall\", fontsize=12)\n",
    "    plt.ylabel(\"Precision\", fontsize=12)\n",
    "    plt.legend(fontsize=10)\n",
    "    plt.legend()\n",
    "    plt.savefig(\"models/plots/pr_auc_for_hab_planet.png\", dpi=300)\n",
    "    plt.show()\n",
    "    \n",
    "\n",
    "def test_model(test_data):\n",
    "        \n",
    "    model_path = \"models/autogluon_model/\"\n",
    "    model = TabularPredictor.load(model_path)\n",
    "    test_data[\"pred_proba\"] = model.predict_proba(test_data)[1]\n",
    "    calibrated_model = CalibratedClassifierCV(cv=2)\n",
    "    calibrated_model.fit(test_data[\"pred_proba\"].values.reshape(-1,1), test_data[\"label\"].values)\n",
    "    test_data[\"cali_proba\"] = calibrated_model.predict_proba(test_data[\"pred_proba\"].values.reshape(-1,1))[:,1]\n",
    "    if not os.path.exists(\"models/calibrated_model/\"):\n",
    "        os.makedirs('models/calibrated_model/')\n",
    "    with open(\"models/calibrated_model/hab_model.pkl\", \"wb\") as file:\n",
    "        pickle.dump(calibrated_model, file)\n",
    "\n",
    "    if not os.path.exists(\"models/results/\"):\n",
    "        os.makedirs('models/results/')\n",
    "\n",
    "    feature_df = model.feature_importance(test_data)\n",
    "    test_data.to_csv(\"models/results/test.csv\",sep=\",\",index=False)\n",
    "    feature_df.to_csv(\"models/results/features.csv\", sep=\",\")\n",
    "    precision, recall,_ = precision_recall_curve(test_data[\"label\"], test_data[\"cali_proba\"])\n",
    "    auc_precision_recall = auc(recall, precision)\n",
    "    print(\"PR_AUC:\")\n",
    "    print(auc_precision_recall)\n",
    "    generatePRAUC_CURVE(recall, precision, auc_precision_recall)\n",
    "    return test_data, feature_df"
   ]
  },
  {
   "cell_type": "code",
   "execution_count": 73,
   "id": "c503902c-99e7-47fb-ba9b-e5b0ca1fa760",
   "metadata": {},
   "outputs": [
    {
     "name": "stderr",
     "output_type": "stream",
     "text": [
      "Warning: path already exists! This predictor may overwrite an existing predictor! path=\"models/autogluon_model/\"\n",
      "Presets specified: ['medium_quality']\n",
      "Beginning AutoGluon training ...\n",
      "AutoGluon will save models to \"models/autogluon_model/\"\n",
      "=================== System Info ===================\n",
      "AutoGluon Version:  1.0.0\n",
      "Python Version:     3.9.0\n",
      "Operating System:   Darwin\n",
      "Platform Machine:   x86_64\n",
      "Platform Version:   Darwin Kernel Version 21.6.0: Mon Aug 22 20:17:10 PDT 2022; root:xnu-8020.140.49~2/RELEASE_X86_64\n",
      "CPU Count:          12\n",
      "Memory Avail:       5.96 GB / 16.00 GB (37.3%)\n",
      "Disk Space Avail:   1.46 GB / 233.47 GB (0.6%)\n",
      "\tWARNING: Available disk space is low and there is a risk that AutoGluon will run out of disk during fit, causing an exception. \n",
      "\tWe recommend a minimum available disk space of 10 GB, and large datasets may require more.\n",
      "===================================================\n",
      "Train Data Rows:    3898\n",
      "Train Data Columns: 104\n",
      "Label Column:       label\n",
      "AutoGluon infers your prediction problem is: 'binary' (because only two unique label-values observed).\n",
      "\t2 unique label values:  [0, 1]\n",
      "\tIf 'binary' is not the correct problem_type, please manually specify the problem_type parameter during predictor init (You may specify problem_type as one of: ['binary', 'multiclass', 'regression'])\n",
      "Problem Type:       binary\n",
      "Preprocessing data ...\n",
      "Selected class <--> label mapping:  class 1 = 1, class 0 = 0\n",
      "Using Feature Generators to preprocess the data ...\n",
      "Fitting AutoMLPipelineFeatureGenerator...\n",
      "\tAvailable Memory:                    6110.22 MB\n",
      "\tTrain Data (Original)  Memory Usage: 5.13 MB (0.1% of available memory)\n",
      "\tInferring data type of each feature based on column values. Set feature_metadata_in to manually specify special dtypes of the features.\n"
     ]
    },
    {
     "name": "stdout",
     "output_type": "stream",
     "text": [
      "Training started:\n"
     ]
    },
    {
     "name": "stderr",
     "output_type": "stream",
     "text": [
      "\tStage 1 Generators:\n",
      "\t\tFitting AsTypeFeatureGenerator...\n",
      "\t\t\tNote: Converting 4 features to boolean dtype as they only contain 2 unique values.\n",
      "\tStage 2 Generators:\n",
      "\t\tFitting FillNaFeatureGenerator...\n",
      "\tStage 3 Generators:\n",
      "\t\tFitting IdentityFeatureGenerator...\n",
      "\t\tFitting CategoryFeatureGenerator...\n",
      "\t\t\tFitting CategoryMemoryMinimizeFeatureGenerator...\n",
      "\t\tFitting DatetimeFeatureGenerator...\n",
      "\t\tFitting TextSpecialFeatureGenerator...\n",
      "\t\t\tFitting BinnedFeatureGenerator...\n",
      "\t\t\tFitting DropDuplicatesFeatureGenerator...\n",
      "\t\tFitting TextNgramFeatureGenerator...\n",
      "\t\t\tFitting CountVectorizer for text features: ['S_DEC_TXT']\n",
      "\t\t\tCountVectorizer fit with vocabulary size = 90\n",
      "\tStage 4 Generators:\n",
      "\t\tFitting DropUniqueFeatureGenerator...\n",
      "\tStage 5 Generators:\n",
      "\t\tFitting DropDuplicatesFeatureGenerator...\n",
      "\tUseless Original Features (Count: 4): ['P_OMEGA_LIMIT', 'S_MASS_LIMIT', 'S_RADIUS_LIMIT', 'S_LOG_LUM_LIMIT']\n",
      "\t\tThese features carry no predictive signal and should be manually investigated.\n",
      "\t\tThis is typically a feature which has the same value for all rows.\n",
      "\t\tThese features do not need to be present at inference time.\n",
      "\tUnused Original Features (Count: 5): ['S_LOG_G_LIMIT', 'S_HZ_CON0_MAX', 'S_HZ_CON1_MAX', 'S_CONSTELLATION_ABR', 'S_CONSTELLATION_ENG']\n",
      "\t\tThese features were not used to generate any of the output features. Add a feature generator compatible with these features to utilize them.\n",
      "\t\tFeatures can also be unused if they carry very little information, such as being categorical but having almost entirely unique values or being duplicates of other features.\n",
      "\t\tThese features do not need to be present at inference time.\n",
      "\t\t('float', [])  : 2 | ['S_HZ_CON0_MAX', 'S_HZ_CON1_MAX']\n",
      "\t\t('int', [])    : 1 | ['S_LOG_G_LIMIT']\n",
      "\t\t('object', []) : 2 | ['S_CONSTELLATION_ABR', 'S_CONSTELLATION_ENG']\n",
      "\tTypes of features in original data (raw dtype, special dtypes):\n",
      "\t\t('float', [])                      : 78 | ['P_MASS', 'P_MASS_ERROR_MIN', 'P_MASS_ERROR_MAX', 'P_RADIUS', 'P_RADIUS_ERROR_MIN', ...]\n",
      "\t\t('int', [])                        :  9 | ['P_MASS_LIMIT', 'P_RADIUS_LIMIT', 'P_PERIOD_LIMIT', 'P_SEMI_MAJOR_AXIS_LIMIT', 'P_ECCENTRICITY_LIMIT', ...]\n",
      "\t\t('object', [])                     :  6 | ['P_MASS_ORIGIN', 'S_TYPE', 'S_RA_STR', 'S_DEC_STR', 'S_TYPE_TEMP', ...]\n",
      "\t\t('object', ['datetime_as_object']) :  1 | ['S_RA_TXT']\n",
      "\t\t('object', ['text'])               :  1 | ['S_DEC_TXT']\n",
      "\tTypes of features in processed data (raw dtype, special dtypes):\n",
      "\t\t('category', [])                    :  6 | ['P_MASS_ORIGIN', 'S_TYPE', 'S_RA_STR', 'S_DEC_STR', 'S_TYPE_TEMP', ...]\n",
      "\t\t('float', [])                       : 78 | ['P_MASS', 'P_MASS_ERROR_MIN', 'P_MASS_ERROR_MAX', 'P_RADIUS', 'P_RADIUS_ERROR_MIN', ...]\n",
      "\t\t('int', [])                         :  5 | ['P_MASS_LIMIT', 'P_PERIOD_LIMIT', 'P_ECCENTRICITY_LIMIT', 'P_INCLINATION_LIMIT', 'S_AGE_LIMIT']\n",
      "\t\t('int', ['binned', 'text_special']) :  1 | ['S_DEC_TXT.symbol_count.-']\n",
      "\t\t('int', ['bool'])                   :  4 | ['P_RADIUS_LIMIT', 'P_SEMI_MAJOR_AXIS_LIMIT', 'S_TEMPERATURE_LIMIT', 'S_METALLICITY_LIMIT']\n",
      "\t\t('int', ['datetime_as_int'])        :  5 | ['S_RA_TXT', 'S_RA_TXT.year', 'S_RA_TXT.month', 'S_RA_TXT.day', 'S_RA_TXT.dayofweek']\n",
      "\t\t('int', ['text_ngram'])             : 91 | ['__nlp__.00', '__nlp__.01', '__nlp__.02', '__nlp__.03', '__nlp__.04', ...]\n",
      "\t4.6s = Fit runtime\n",
      "\t95 features in original data used to generate 190 features in processed data.\n",
      "\tTrain Data (Processed) Memory Usage: 3.35 MB (0.1% of available memory)\n",
      "Data preprocessing and feature engineering runtime = 4.67s ...\n",
      "AutoGluon will gauge predictive performance using evaluation metric: 'praucscore'\n",
      "\tTo change this, specify the eval_metric parameter of Predictor()\n",
      "Automatically generating train/validation split with holdout_frac=0.12827090815802974, Train Rows: 3398, Val Rows: 500\n",
      "User-specified model hyperparameters to be fit:\n",
      "{\n",
      "\t'XGB': {},\n",
      "}\n",
      "Fitting 1 L1 models ...\n",
      "Fitting model: XGBoost ...\n",
      "\t1.0\t = Validation score   (praucscore)\n",
      "\t1.48s\t = Training   runtime\n",
      "\t0.02s\t = Validation runtime\n",
      "Fitting model: WeightedEnsemble_L2 ...\n",
      "\tEnsemble Weights: {'XGBoost': 1.0}\n",
      "\t1.0\t = Validation score   (praucscore)\n",
      "\t0.01s\t = Training   runtime\n",
      "\t0.0s\t = Validation runtime\n",
      "AutoGluon training complete, total runtime = 6.28s ... Best model: \"WeightedEnsemble_L2\"\n",
      "TabularPredictor saved. To load, use: predictor = TabularPredictor.load(\"models/autogluon_model/\")\n"
     ]
    }
   ],
   "source": [
    "train_model(df_train_final)"
   ]
  },
  {
   "cell_type": "code",
   "execution_count": 74,
   "id": "b3be6bae-2cac-49ec-8fea-34dfa42cd774",
   "metadata": {},
   "outputs": [
    {
     "name": "stderr",
     "output_type": "stream",
     "text": [
      "These features in provided data are not utilized by the predictor and will be ignored: ['P_NAME', 'P_DETECTION', 'P_DISCOVERY_FACILITY', 'P_YEAR', 'P_OMEGA_LIMIT', 'S_NAME', 'S_MASS_LIMIT', 'S_RADIUS_LIMIT', 'S_LOG_LUM_LIMIT', 'S_LOG_G_LIMIT', 'P_TYPE', 'S_HZ_CON0_MAX', 'S_HZ_CON1_MAX', 'P_HABZONE_OPT', 'P_HABZONE_CON', 'P_TYPE_TEMP', 'P_HABITABLE', 'P_ESI', 'S_CONSTELLATION_ABR', 'S_CONSTELLATION_ENG', 'pred_proba', 'cali_proba']\n",
      "Computing feature importance via permutation shuffling for 95 features using 1671 rows with 5 shuffle sets...\n",
      "\t102.65s\t= Expected runtime (20.53s per shuffle set)\n",
      "\t74.86s\t= Actual runtime (Completed 5 of 5 shuffle sets)\n"
     ]
    },
    {
     "name": "stdout",
     "output_type": "stream",
     "text": [
      "PR_AUC:\n",
      "0.9366573462837972\n"
     ]
    },
    {
     "data": {
      "image/png": "[encoded data removed]",
      "text/plain": [
       "<Figure size 640x480 with 1 Axes>"
      ]
     },
     "metadata": {},
     "output_type": "display_data"
    }
   ],
   "source": [
    "df_test_results, df_feature = test_model(df_test)"
   ]
  },
  {
   "cell_type": "code",
   "execution_count": 75,
   "id": "6477728e-4669-4200-8d2f-5d0ec6cfe2f2",
   "metadata": {},
   "outputs": [
    {
     "name": "stdout",
     "output_type": "stream",
     "text": [
      "              precision    recall  f1-score   support\n",
      "\n",
      "           0       1.00      1.00      1.00      1654\n",
      "           1       0.87      0.76      0.81        17\n",
      "\n",
      "    accuracy                           1.00      1671\n",
      "   macro avg       0.93      0.88      0.91      1671\n",
      "weighted avg       1.00      1.00      1.00      1671\n",
      "\n"
     ]
    }
   ],
   "source": [
    "labels = df_test_results[\"label\"]\n",
    "proba = df_test_results[\"cali_proba\"]\n",
    "output = []\n",
    "for x in proba:\n",
    "    if x > 0.5:\n",
    "        output.append(1)\n",
    "    else:\n",
    "        output.append(0)\n",
    "\n",
    "print(classification_report(labels, output))"
   ]
  },
  {
   "cell_type": "code",
   "execution_count": 76,
   "id": "5c7c2062-b565-441f-84e1-e2edc7ad9929",
   "metadata": {},
   "outputs": [
    {
     "data": {
      "text/html": [
       "<div>\n",
       "<style scoped>\n",
       "    .dataframe tbody tr th:only-of-type {\n",
       "        vertical-align: middle;\n",
       "    }\n",
       "\n",
       "    .dataframe tbody tr th {\n",
       "        vertical-align: top;\n",
       "    }\n",
       "\n",
       "    .dataframe thead th {\n",
       "        text-align: right;\n",
       "    }\n",
       "</style>\n",
       "<table border=\"1\" class=\"dataframe\">\n",
       "  <thead>\n",
       "    <tr style=\"text-align: right;\">\n",
       "      <th></th>\n",
       "      <th>importance</th>\n",
       "      <th>stddev</th>\n",
       "      <th>p_value</th>\n",
       "      <th>n</th>\n",
       "      <th>p99_high</th>\n",
       "      <th>p99_low</th>\n",
       "    </tr>\n",
       "  </thead>\n",
       "  <tbody>\n",
       "    <tr>\n",
       "      <th>P_TEMP_SURF</th>\n",
       "      <td>0.845076</td>\n",
       "      <td>0.000000</td>\n",
       "      <td>0.500000</td>\n",
       "      <td>5</td>\n",
       "      <td>0.845076</td>\n",
       "      <td>0.845076</td>\n",
       "    </tr>\n",
       "    <tr>\n",
       "      <th>P_FLUX_MIN</th>\n",
       "      <td>0.067300</td>\n",
       "      <td>0.024213</td>\n",
       "      <td>0.001705</td>\n",
       "      <td>5</td>\n",
       "      <td>0.117154</td>\n",
       "      <td>0.017446</td>\n",
       "    </tr>\n",
       "    <tr>\n",
       "      <th>P_TEMP_EQUIL</th>\n",
       "      <td>0.060379</td>\n",
       "      <td>0.015149</td>\n",
       "      <td>0.000438</td>\n",
       "      <td>5</td>\n",
       "      <td>0.091571</td>\n",
       "      <td>0.029187</td>\n",
       "    </tr>\n",
       "    <tr>\n",
       "      <th>P_FLUX_MAX</th>\n",
       "      <td>0.006656</td>\n",
       "      <td>0.014883</td>\n",
       "      <td>0.186950</td>\n",
       "      <td>5</td>\n",
       "      <td>0.037300</td>\n",
       "      <td>-0.023988</td>\n",
       "    </tr>\n",
       "    <tr>\n",
       "      <th>P_MASS</th>\n",
       "      <td>0.000000</td>\n",
       "      <td>0.000000</td>\n",
       "      <td>0.500000</td>\n",
       "      <td>5</td>\n",
       "      <td>0.000000</td>\n",
       "      <td>0.000000</td>\n",
       "    </tr>\n",
       "    <tr>\n",
       "      <th>...</th>\n",
       "      <td>...</td>\n",
       "      <td>...</td>\n",
       "      <td>...</td>\n",
       "      <td>...</td>\n",
       "      <td>...</td>\n",
       "      <td>...</td>\n",
       "    </tr>\n",
       "    <tr>\n",
       "      <th>S_TYPE</th>\n",
       "      <td>0.000000</td>\n",
       "      <td>0.000000</td>\n",
       "      <td>0.500000</td>\n",
       "      <td>5</td>\n",
       "      <td>0.000000</td>\n",
       "      <td>0.000000</td>\n",
       "    </tr>\n",
       "    <tr>\n",
       "      <th>P_OMEGA_ERROR_MAX</th>\n",
       "      <td>0.000000</td>\n",
       "      <td>0.000000</td>\n",
       "      <td>0.500000</td>\n",
       "      <td>5</td>\n",
       "      <td>0.000000</td>\n",
       "      <td>0.000000</td>\n",
       "    </tr>\n",
       "    <tr>\n",
       "      <th>P_OMEGA_ERROR_MIN</th>\n",
       "      <td>0.000000</td>\n",
       "      <td>0.000000</td>\n",
       "      <td>0.500000</td>\n",
       "      <td>5</td>\n",
       "      <td>0.000000</td>\n",
       "      <td>0.000000</td>\n",
       "    </tr>\n",
       "    <tr>\n",
       "      <th>S_LOG_G_ERROR_MIN</th>\n",
       "      <td>-0.026231</td>\n",
       "      <td>0.014664</td>\n",
       "      <td>0.991935</td>\n",
       "      <td>5</td>\n",
       "      <td>0.003962</td>\n",
       "      <td>-0.056424</td>\n",
       "    </tr>\n",
       "    <tr>\n",
       "      <th>P_INCLINATION_ERROR_MAX</th>\n",
       "      <td>-0.032789</td>\n",
       "      <td>0.000000</td>\n",
       "      <td>0.500000</td>\n",
       "      <td>5</td>\n",
       "      <td>-0.032789</td>\n",
       "      <td>-0.032789</td>\n",
       "    </tr>\n",
       "  </tbody>\n",
       "</table>\n",
       "<p>95 rows × 6 columns</p>\n",
       "</div>"
      ],
      "text/plain": [
       "                         importance    stddev   p_value  n  p99_high   p99_low\n",
       "P_TEMP_SURF                0.845076  0.000000  0.500000  5  0.845076  0.845076\n",
       "P_FLUX_MIN                 0.067300  0.024213  0.001705  5  0.117154  0.017446\n",
       "P_TEMP_EQUIL               0.060379  0.015149  0.000438  5  0.091571  0.029187\n",
       "P_FLUX_MAX                 0.006656  0.014883  0.186950  5  0.037300 -0.023988\n",
       "P_MASS                     0.000000  0.000000  0.500000  5  0.000000  0.000000\n",
       "...                             ...       ...       ... ..       ...       ...\n",
       "S_TYPE                     0.000000  0.000000  0.500000  5  0.000000  0.000000\n",
       "P_OMEGA_ERROR_MAX          0.000000  0.000000  0.500000  5  0.000000  0.000000\n",
       "P_OMEGA_ERROR_MIN          0.000000  0.000000  0.500000  5  0.000000  0.000000\n",
       "S_LOG_G_ERROR_MIN         -0.026231  0.014664  0.991935  5  0.003962 -0.056424\n",
       "P_INCLINATION_ERROR_MAX   -0.032789  0.000000  0.500000  5 -0.032789 -0.032789\n",
       "\n",
       "[95 rows x 6 columns]"
      ]
     },
     "metadata": {},
     "output_type": "display_data"
    }
   ],
   "source": [
    "display(df_feature)"
   ]
  },
  {
   "cell_type": "code",
   "execution_count": 31,
   "id": "977220b1-ca99-4e28-b71e-9fd83fb0d57d",
   "metadata": {},
   "outputs": [],
   "source": [
    "df_test_best = pd.read_csv(\"/Users/brihat/Washington/NumericalAnalysis/models_catboost_withoutESI/results/test.csv\",sep=\",\")"
   ]
  },
  {
   "cell_type": "code",
   "execution_count": 63,
   "id": "59ec945a-e2d6-44de-bc8a-ac4640b66411",
   "metadata": {},
   "outputs": [
    {
     "name": "stdout",
     "output_type": "stream",
     "text": [
      "              precision    recall  f1-score   support\n",
      "\n",
      "           0       1.00      1.00      1.00      1654\n",
      "           1       0.94      0.88      0.91        17\n",
      "\n",
      "    accuracy                           1.00      1671\n",
      "   macro avg       0.97      0.94      0.95      1671\n",
      "weighted avg       1.00      1.00      1.00      1671\n",
      "\n"
     ]
    }
   ],
   "source": [
    "labels = df_test_best[\"label\"]\n",
    "proba = df_test_best[\"cali_proba\"]\n",
    "output = []\n",
    "for x in proba:\n",
    "    if x > 0.5:\n",
    "        output.append(1)\n",
    "    else:\n",
    "        output.append(0)\n",
    "\n",
    "print(classification_report(labels, output))"
   ]
  },
  {
   "cell_type": "code",
   "execution_count": 64,
   "id": "de193ab9-8c6d-443a-b479-529a64c55ebb",
   "metadata": {},
   "outputs": [
    {
     "name": "stdout",
     "output_type": "stream",
     "text": [
      "[[1653    1]\n",
      " [   2   15]]\n"
     ]
    }
   ],
   "source": [
    "print(confusion_matrix(labels, output))"
   ]
  },
  {
   "cell_type": "code",
   "execution_count": 82,
   "id": "4d15b463-dd3a-41f8-8679-8dfb59147e2d",
   "metadata": {},
   "outputs": [],
   "source": [
    "df_test_best_xgb = pd.read_csv(\"/Users/brihat/Washington/NumericalAnalysis/models_xgb_withoutESI/results/test.csv\",sep=\",\")"
   ]
  },
  {
   "cell_type": "code",
   "execution_count": 79,
   "id": "59ea1c5a-a468-42b1-b5c2-cb19497be169",
   "metadata": {},
   "outputs": [],
   "source": [
    "def generatePRAUC_CURVE_v1(recall, precision, prauc, recall_1, precision_1, prauc_1):\n",
    "\n",
    "    if not os.path.exists(\"models/plots\"):\n",
    "        os.makedirs(\"models/plots\")\n",
    "\n",
    "    r_rgb = (251, 128, 114)\n",
    "    r_rgb = [x/256.0 for x in r_rgb]\n",
    "    plt.figure()\n",
    "    plt.plot(recall, precision, label=\"catboost: \" + str(round(prauc, 3)), color=r_rgb)\n",
    "    plt.plot(recall_1, precision_1, label=\"xgboost: \" + str(round(prauc_1, 3)))\n",
    "    plt.title(\"PR AUC plot for habitable planet detection models\")\n",
    "    plt.xlabel(\"Recall\", fontsize=12)\n",
    "    plt.ylabel(\"Precision\", fontsize=12)\n",
    "    plt.legend(fontsize=10)\n",
    "    plt.legend()\n",
    "    plt.savefig(\"models/plots/pr_auc_for_hab_planet.png\", dpi=300)\n",
    "    plt.show()"
   ]
  },
  {
   "cell_type": "code",
   "execution_count": 83,
   "id": "5a6e280c-8a4f-4d69-9bd7-20c2996e052d",
   "metadata": {},
   "outputs": [],
   "source": [
    "precision, recall,_ = precision_recall_curve(df_test_best[\"label\"], df_test_best[\"cali_proba\"])\n",
    "auc_precision_recall = auc(recall, precision)\n",
    "precision1, recall1,_ = precision_recall_curve(df_test_best_xgb[\"label\"], df_test_best_xgb[\"cali_proba\"])\n",
    "auc_precision_recall_1 = auc(recall1, precision1)"
   ]
  },
  {
   "cell_type": "code",
   "execution_count": 86,
   "id": "d5722bd2-9aba-4b7d-99b4-a426f9d2a966",
   "metadata": {},
   "outputs": [
    {
     "data": {
      "image/png": "[encoded data removed]",
      "text/plain": [
       "<Figure size 640x480 with 1 Axes>"
      ]
     },
     "metadata": {},
     "output_type": "display_data"
    }
   ],
   "source": [
    "generatePRAUC_CURVE_v1(recall, precision, auc_precision_recall, recall1, precision1, auc_precision_recall_1)"
   ]
  },
  {
   "cell_type": "code",
   "execution_count": null,
   "id": "a4bc1356-dea1-4564-82a0-eeab8e6d6ff9",
   "metadata": {},
   "outputs": [],
   "source": []
  }
 ],
 "metadata": {
  "kernelspec": {
   "display_name": "Python 3 (ipykernel)",
   "language": "python",
   "name": "python3"
  },
  "language_info": {
   "codemirror_mode": {
    "name": "ipython",
    "version": 3
   },
   "file_extension": ".py",
   "mimetype": "text/x-python",
   "name": "python",
   "nbconvert_exporter": "python",
   "pygments_lexer": "ipython3",
   "version": "3.9.0"
  }
 },
 "nbformat": 4,
 "nbformat_minor": 5
}
